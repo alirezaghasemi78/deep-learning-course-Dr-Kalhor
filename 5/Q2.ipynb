{
  "cells": [
    {
      "cell_type": "markdown",
      "metadata": {
        "id": "LV_pxQLwO2vc"
      },
      "source": [
        "## 1"
      ]
    },
    {
      "cell_type": "code",
      "execution_count": 4,
      "metadata": {
        "colab": {
          "base_uri": "https://localhost:8080/"
        },
        "id": "SuLoSKhyN3qP",
        "outputId": "d661b8d3-d21c-49cb-91e8-edb9f4e5fa50"
      },
      "outputs": [
        {
          "name": "stdout",
          "output_type": "stream",
          "text": [
            "Cloning into 'FarsTail'...\n",
            "remote: Enumerating objects: 137, done.\u001b[K\n",
            "remote: Counting objects: 100% (33/33), done.\u001b[K\n",
            "remote: Compressing objects: 100% (15/15), done.\u001b[K\n",
            "remote: Total 137 (delta 26), reused 18 (delta 18), pack-reused 104\u001b[K\n",
            "Receiving objects: 100% (137/137), 43.86 MiB | 288.00 KiB/s, done.\n",
            "Resolving deltas: 100% (40/40), done.\n"
          ]
        }
      ],
      "source": [
        "!git clone https://github.com/dml-qom/FarsTail.git"
      ]
    },
    {
      "cell_type": "code",
      "execution_count": 5,
      "metadata": {
        "colab": {
          "base_uri": "https://localhost:8080/"
        },
        "id": "Crfcb7zyO4g4",
        "outputId": "6284462a-b74d-4b80-b066-1694efc80fd9"
      },
      "outputs": [
        {
          "name": "stdout",
          "output_type": "stream",
          "text": [
            "Indexed-FarsTail.npz  Test-word.csv  Train-word.csv  Val-word.csv\n"
          ]
        }
      ],
      "source": [
        "!ls ./FarsTail/data"
      ]
    },
    {
      "cell_type": "code",
      "execution_count": 11,
      "metadata": {
        "colab": {
          "base_uri": "https://localhost:8080/",
          "height": 424
        },
        "id": "2RFWiU_BO8_k",
        "outputId": "a1f184ce-7bf7-4a63-8fc7-06354ae222d3"
      },
      "outputs": [
        {
          "data": {
            "text/html": [
              "<div>\n",
              "<style scoped>\n",
              "    .dataframe tbody tr th:only-of-type {\n",
              "        vertical-align: middle;\n",
              "    }\n",
              "\n",
              "    .dataframe tbody tr th {\n",
              "        vertical-align: top;\n",
              "    }\n",
              "\n",
              "    .dataframe thead th {\n",
              "        text-align: right;\n",
              "    }\n",
              "</style>\n",
              "<table border=\"1\" class=\"dataframe\">\n",
              "  <thead>\n",
              "    <tr style=\"text-align: right;\">\n",
              "      <th></th>\n",
              "      <th>premise</th>\n",
              "      <th>hypothesis</th>\n",
              "      <th>label</th>\n",
              "    </tr>\n",
              "  </thead>\n",
              "  <tbody>\n",
              "    <tr>\n",
              "      <th>0</th>\n",
              "      <td>اولین انتقال و نفوذ طبیعی فرهنگ و تمدن اسلامی ...</td>\n",
              "      <td>نخستین انتقال و نفوذ طبیعی فرهنگ و تمدن اسلامی...</td>\n",
              "      <td>e</td>\n",
              "    </tr>\n",
              "    <tr>\n",
              "      <th>1</th>\n",
              "      <td>اولین انتقال و نفوذ طبیعی فرهنگ و تمدن اسلامی ...</td>\n",
              "      <td>کانون های جغرافیایی مصر، اندلس و شام، نخستین ر...</td>\n",
              "      <td>c</td>\n",
              "    </tr>\n",
              "    <tr>\n",
              "      <th>2</th>\n",
              "      <td>اولین انتقال و نفوذ طبیعی فرهنگ و تمدن اسلامی ...</td>\n",
              "      <td>سیسیل بعد از اسپانیا بزرگ ترین کانونی بود که ه...</td>\n",
              "      <td>n</td>\n",
              "    </tr>\n",
              "    <tr>\n",
              "      <th>3</th>\n",
              "      <td>ویژگی های هنر عصر اموی: ۱- تلفیقی بودن ۲- بازن...</td>\n",
              "      <td>نقاشی های تزئینی و تندیس های بی‌کیفیت، یکی از ...</td>\n",
              "      <td>e</td>\n",
              "    </tr>\n",
              "    <tr>\n",
              "      <th>4</th>\n",
              "      <td>ویژگی های هنر عصر اموی: ۱- تلفیقی بودن ۲- بازن...</td>\n",
              "      <td>با کیفیت بودن تندیس های دوره اموی، یکی از ویژگ...</td>\n",
              "      <td>c</td>\n",
              "    </tr>\n",
              "    <tr>\n",
              "      <th>...</th>\n",
              "      <td>...</td>\n",
              "      <td>...</td>\n",
              "      <td>...</td>\n",
              "    </tr>\n",
              "    <tr>\n",
              "      <th>7261</th>\n",
              "      <td>قانون اساسی جمهوری اسلامی ایران در سال ۱۳۵۸ تو...</td>\n",
              "      <td>تعداد فصول قانون اساسی ۱۴ و تعداد اصول آن ۱۷۷ ...</td>\n",
              "      <td>e</td>\n",
              "    </tr>\n",
              "    <tr>\n",
              "      <th>7262</th>\n",
              "      <td>قانون اساسی جمهوری اسلامی ایران در سال ۱۳۵۸ تو...</td>\n",
              "      <td>قانون اساسی دارای ۲۵ فصل و ۱۷۵ اصل می باشد.</td>\n",
              "      <td>c</td>\n",
              "    </tr>\n",
              "    <tr>\n",
              "      <th>7263</th>\n",
              "      <td>قانون اساسی جمهوری اسلامی ایران در سال ۱۳۵۸ تو...</td>\n",
              "      <td>در ۲۴ آبان ۵۸ کار تدوین قانون اساسی به پایان ر...</td>\n",
              "      <td>n</td>\n",
              "    </tr>\n",
              "    <tr>\n",
              "      <th>7264</th>\n",
              "      <td>محاصره اقتصادی پیامبر (ص) و یارانش که در سال ه...</td>\n",
              "      <td>حضرت محمد (ص) و یارانش از ششمین سال بعثت تا هش...</td>\n",
              "      <td>c</td>\n",
              "    </tr>\n",
              "    <tr>\n",
              "      <th>7265</th>\n",
              "      <td>محاصره اقتصادی پیامبر (ص) و یارانش که در سال ه...</td>\n",
              "      <td>در دوران محاصره اقتصادی رسول اکرم (ص) و پیروان...</td>\n",
              "      <td>n</td>\n",
              "    </tr>\n",
              "  </tbody>\n",
              "</table>\n",
              "<p>7266 rows × 3 columns</p>\n",
              "</div>"
            ],
            "text/plain": [
              "                                                premise  \\\n",
              "0     اولین انتقال و نفوذ طبیعی فرهنگ و تمدن اسلامی ...   \n",
              "1     اولین انتقال و نفوذ طبیعی فرهنگ و تمدن اسلامی ...   \n",
              "2     اولین انتقال و نفوذ طبیعی فرهنگ و تمدن اسلامی ...   \n",
              "3     ویژگی های هنر عصر اموی: ۱- تلفیقی بودن ۲- بازن...   \n",
              "4     ویژگی های هنر عصر اموی: ۱- تلفیقی بودن ۲- بازن...   \n",
              "...                                                 ...   \n",
              "7261  قانون اساسی جمهوری اسلامی ایران در سال ۱۳۵۸ تو...   \n",
              "7262  قانون اساسی جمهوری اسلامی ایران در سال ۱۳۵۸ تو...   \n",
              "7263  قانون اساسی جمهوری اسلامی ایران در سال ۱۳۵۸ تو...   \n",
              "7264  محاصره اقتصادی پیامبر (ص) و یارانش که در سال ه...   \n",
              "7265  محاصره اقتصادی پیامبر (ص) و یارانش که در سال ه...   \n",
              "\n",
              "                                             hypothesis label  \n",
              "0     نخستین انتقال و نفوذ طبیعی فرهنگ و تمدن اسلامی...     e  \n",
              "1     کانون های جغرافیایی مصر، اندلس و شام، نخستین ر...     c  \n",
              "2     سیسیل بعد از اسپانیا بزرگ ترین کانونی بود که ه...     n  \n",
              "3     نقاشی های تزئینی و تندیس های بی‌کیفیت، یکی از ...     e  \n",
              "4     با کیفیت بودن تندیس های دوره اموی، یکی از ویژگ...     c  \n",
              "...                                                 ...   ...  \n",
              "7261  تعداد فصول قانون اساسی ۱۴ و تعداد اصول آن ۱۷۷ ...     e  \n",
              "7262        قانون اساسی دارای ۲۵ فصل و ۱۷۵ اصل می باشد.     c  \n",
              "7263  در ۲۴ آبان ۵۸ کار تدوین قانون اساسی به پایان ر...     n  \n",
              "7264  حضرت محمد (ص) و یارانش از ششمین سال بعثت تا هش...     c  \n",
              "7265  در دوران محاصره اقتصادی رسول اکرم (ص) و پیروان...     n  \n",
              "\n",
              "[7266 rows x 3 columns]"
            ]
          },
          "execution_count": 11,
          "metadata": {},
          "output_type": "execute_result"
        }
      ],
      "source": [
        "import pandas as pd\n",
        "\n",
        "data_path = './FarsTail/data/Train-word.csv'\n",
        "df = pd.read_csv(data_path, sep='\\t')\n",
        "df"
      ]
    },
    {
      "cell_type": "code",
      "execution_count": 9,
      "metadata": {
        "colab": {
          "base_uri": "https://localhost:8080/"
        },
        "id": "dyxQbhWxPXcN",
        "outputId": "63769e2e-16ed-4215-c169-7d3623c59b69"
      },
      "outputs": [
        {
          "data": {
            "text/plain": [
              "label\n",
              "n    2448\n",
              "e    2429\n",
              "c    2389\n",
              "Name: count, dtype: int64"
            ]
          },
          "execution_count": 9,
          "metadata": {},
          "output_type": "execute_result"
        }
      ],
      "source": [
        "df['label'].value_counts()"
      ]
    },
    {
      "cell_type": "code",
      "execution_count": 3,
      "metadata": {
        "colab": {
          "base_uri": "https://localhost:8080/"
        },
        "id": "l3hI7pnGr6G6",
        "outputId": "2a23e190-7d2c-4019-dd16-3a33f40506c2"
      },
      "outputs": [],
      "source": [
        "from transformers import AutoConfig, AutoTokenizer\n",
        "\n",
        "config = AutoConfig.from_pretrained(\"HooshvareLab/bert-base-parsbert-uncased\")\n",
        "tokenizer = AutoTokenizer.from_pretrained(\"HooshvareLab/bert-base-parsbert-uncased\")"
      ]
    },
    {
      "cell_type": "code",
      "execution_count": 41,
      "metadata": {
        "colab": {
          "base_uri": "https://localhost:8080/",
          "height": 472
        },
        "id": "Zn3UTvAIuGvq",
        "outputId": "f7cd7c0c-4c93-4eba-b914-460e233009cd"
      },
      "outputs": [
        {
          "data": {
            "image/png": "[encoded data removed]",
            "text/plain": [
              "<Figure size 640x480 with 1 Axes>"
            ]
          },
          "metadata": {},
          "output_type": "display_data"
        }
      ],
      "source": [
        "import matplotlib.pyplot as plt\n",
        "\n",
        "df['premise_length'] = df['premise'].apply(lambda x: len(tokenizer.tokenize(x)))\n",
        "df['hypothesis_length'] = df['hypothesis'].apply(lambda x: len(tokenizer.tokenize(x)))\n",
        "\n",
        "# Plot histogram\n",
        "plt.hist(df['premise_length'] + df['hypothesis_length'], bins=20, color='skyblue', edgecolor='black')\n",
        "plt.xlabel('Sentence Length')\n",
        "plt.ylabel('Frequency')\n",
        "plt.title('Histogram of Sentence Lengths')\n",
        "plt.show()\n"
      ]
    },
    {
      "cell_type": "code",
      "execution_count": 42,
      "metadata": {
        "colab": {
          "base_uri": "https://localhost:8080/",
          "height": 424
        },
        "id": "2LP1nGy8u58p",
        "outputId": "6f75033b-dcb2-46b3-fdc2-f0e5bf9c5300"
      },
      "outputs": [
        {
          "data": {
            "text/html": [
              "<div>\n",
              "<style scoped>\n",
              "    .dataframe tbody tr th:only-of-type {\n",
              "        vertical-align: middle;\n",
              "    }\n",
              "\n",
              "    .dataframe tbody tr th {\n",
              "        vertical-align: top;\n",
              "    }\n",
              "\n",
              "    .dataframe thead th {\n",
              "        text-align: right;\n",
              "    }\n",
              "</style>\n",
              "<table border=\"1\" class=\"dataframe\">\n",
              "  <thead>\n",
              "    <tr style=\"text-align: right;\">\n",
              "      <th></th>\n",
              "      <th>Unnamed: 0</th>\n",
              "      <th>premise</th>\n",
              "      <th>hypothesis</th>\n",
              "      <th>label</th>\n",
              "      <th>premise_length</th>\n",
              "      <th>hypothesis_length</th>\n",
              "      <th>cleaned_premise</th>\n",
              "      <th>cleaned_hypothesis</th>\n",
              "    </tr>\n",
              "  </thead>\n",
              "  <tbody>\n",
              "    <tr>\n",
              "      <th>0</th>\n",
              "      <td>0</td>\n",
              "      <td>اولین انتقال و نفوذ طبیعی فرهنگ و تمدن اسلامی ...</td>\n",
              "      <td>نخستین انتقال و نفوذ طبیعی فرهنگ و تمدن اسلامی...</td>\n",
              "      <td>e</td>\n",
              "      <td>37</td>\n",
              "      <td>33</td>\n",
              "      <td>اولین انتقال و نفوذ طبیعی فرهنگ و تمدن اسلامی ...</td>\n",
              "      <td>نخستین انتقال و نفوذ طبیعی فرهنگ و تمدن اسلامی...</td>\n",
              "    </tr>\n",
              "    <tr>\n",
              "      <th>1</th>\n",
              "      <td>1</td>\n",
              "      <td>اولین انتقال و نفوذ طبیعی فرهنگ و تمدن اسلامی ...</td>\n",
              "      <td>کانون های جغرافیایی مصر، اندلس و شام، نخستین ر...</td>\n",
              "      <td>c</td>\n",
              "      <td>37</td>\n",
              "      <td>37</td>\n",
              "      <td>اولین انتقال و نفوذ طبیعی فرهنگ و تمدن اسلامی ...</td>\n",
              "      <td>کانون‌های جغرافیایی مصر، اندلس و شام، نخستین ر...</td>\n",
              "    </tr>\n",
              "    <tr>\n",
              "      <th>2</th>\n",
              "      <td>2</td>\n",
              "      <td>اولین انتقال و نفوذ طبیعی فرهنگ و تمدن اسلامی ...</td>\n",
              "      <td>سیسیل بعد از اسپانیا بزرگ ترین کانونی بود که ه...</td>\n",
              "      <td>n</td>\n",
              "      <td>37</td>\n",
              "      <td>34</td>\n",
              "      <td>اولین انتقال و نفوذ طبیعی فرهنگ و تمدن اسلامی ...</td>\n",
              "      <td>سیسیل بعد از اسپانیا بزرگ‌ترین کانونی بود که ه...</td>\n",
              "    </tr>\n",
              "    <tr>\n",
              "      <th>3</th>\n",
              "      <td>3</td>\n",
              "      <td>ویژگی های هنر عصر اموی: ۱- تلفیقی بودن ۲- بازن...</td>\n",
              "      <td>نقاشی های تزئینی و تندیس های بی‌کیفیت، یکی از ...</td>\n",
              "      <td>e</td>\n",
              "      <td>27</td>\n",
              "      <td>17</td>\n",
              "      <td>ویژگی‌های هنر عصر اموی: ۱ - تلفیقی بودن ۲ - با...</td>\n",
              "      <td>نقاشی‌های تزئینی و تندیس‌های بی‌کیفیت، یکی از ...</td>\n",
              "    </tr>\n",
              "    <tr>\n",
              "      <th>4</th>\n",
              "      <td>4</td>\n",
              "      <td>ویژگی های هنر عصر اموی: ۱- تلفیقی بودن ۲- بازن...</td>\n",
              "      <td>با کیفیت بودن تندیس های دوره اموی، یکی از ویژگ...</td>\n",
              "      <td>c</td>\n",
              "      <td>27</td>\n",
              "      <td>17</td>\n",
              "      <td>ویژگی‌های هنر عصر اموی: ۱ - تلفیقی بودن ۲ - با...</td>\n",
              "      <td>با کیفیت بودن تندیس‌های دوره اموی، یکی از ویژگ...</td>\n",
              "    </tr>\n",
              "    <tr>\n",
              "      <th>...</th>\n",
              "      <td>...</td>\n",
              "      <td>...</td>\n",
              "      <td>...</td>\n",
              "      <td>...</td>\n",
              "      <td>...</td>\n",
              "      <td>...</td>\n",
              "      <td>...</td>\n",
              "      <td>...</td>\n",
              "    </tr>\n",
              "    <tr>\n",
              "      <th>7261</th>\n",
              "      <td>7261</td>\n",
              "      <td>قانون اساسی جمهوری اسلامی ایران در سال ۱۳۵۸ تو...</td>\n",
              "      <td>تعداد فصول قانون اساسی ۱۴ و تعداد اصول آن ۱۷۷ ...</td>\n",
              "      <td>e</td>\n",
              "      <td>37</td>\n",
              "      <td>12</td>\n",
              "      <td>قانون اساسی جمهوری اسلامی ایران در سال ۱۳۵۸ تو...</td>\n",
              "      <td>تعداد فصول قانون اساسی ۱۴ و تعداد اصول آن ۱۷۷ ...</td>\n",
              "    </tr>\n",
              "    <tr>\n",
              "      <th>7262</th>\n",
              "      <td>7262</td>\n",
              "      <td>قانون اساسی جمهوری اسلامی ایران در سال ۱۳۵۸ تو...</td>\n",
              "      <td>قانون اساسی دارای ۲۵ فصل و ۱۷۵ اصل می باشد.</td>\n",
              "      <td>c</td>\n",
              "      <td>37</td>\n",
              "      <td>11</td>\n",
              "      <td>قانون اساسی جمهوری اسلامی ایران در سال ۱۳۵۸ تو...</td>\n",
              "      <td>قانون اساسی دارای ۲۵ فصل و ۱۷۵ اصل می‌باشد.</td>\n",
              "    </tr>\n",
              "    <tr>\n",
              "      <th>7263</th>\n",
              "      <td>7263</td>\n",
              "      <td>قانون اساسی جمهوری اسلامی ایران در سال ۱۳۵۸ تو...</td>\n",
              "      <td>در ۲۴ آبان ۵۸ کار تدوین قانون اساسی به پایان ر...</td>\n",
              "      <td>n</td>\n",
              "      <td>37</td>\n",
              "      <td>12</td>\n",
              "      <td>قانون اساسی جمهوری اسلامی ایران در سال ۱۳۵۸ تو...</td>\n",
              "      <td>در ۲۴ آبان ۵۸ کار تدوین قانون اساسی به پایان ر...</td>\n",
              "    </tr>\n",
              "    <tr>\n",
              "      <th>7264</th>\n",
              "      <td>7264</td>\n",
              "      <td>محاصره اقتصادی پیامبر (ص) و یارانش که در سال ه...</td>\n",
              "      <td>حضرت محمد (ص) و یارانش از ششمین سال بعثت تا هش...</td>\n",
              "      <td>c</td>\n",
              "      <td>33</td>\n",
              "      <td>20</td>\n",
              "      <td>محاصره اقتصادی پیامبر (ص) و یارانش که در سال ه...</td>\n",
              "      <td>حضرت محمد (ص) و یارانش از ششمین سال بعثت تا هش...</td>\n",
              "    </tr>\n",
              "    <tr>\n",
              "      <th>7265</th>\n",
              "      <td>7265</td>\n",
              "      <td>محاصره اقتصادی پیامبر (ص) و یارانش که در سال ه...</td>\n",
              "      <td>در دوران محاصره اقتصادی رسول اکرم (ص) و پیروان...</td>\n",
              "      <td>n</td>\n",
              "      <td>33</td>\n",
              "      <td>20</td>\n",
              "      <td>محاصره اقتصادی پیامبر (ص) و یارانش که در سال ه...</td>\n",
              "      <td>در دوران محاصره اقتصادی رسول اکرم (ص) و پیروان...</td>\n",
              "    </tr>\n",
              "  </tbody>\n",
              "</table>\n",
              "<p>7266 rows × 8 columns</p>\n",
              "</div>"
            ],
            "text/plain": [
              "      Unnamed: 0                                            premise  \\\n",
              "0              0  اولین انتقال و نفوذ طبیعی فرهنگ و تمدن اسلامی ...   \n",
              "1              1  اولین انتقال و نفوذ طبیعی فرهنگ و تمدن اسلامی ...   \n",
              "2              2  اولین انتقال و نفوذ طبیعی فرهنگ و تمدن اسلامی ...   \n",
              "3              3  ویژگی های هنر عصر اموی: ۱- تلفیقی بودن ۲- بازن...   \n",
              "4              4  ویژگی های هنر عصر اموی: ۱- تلفیقی بودن ۲- بازن...   \n",
              "...          ...                                                ...   \n",
              "7261        7261  قانون اساسی جمهوری اسلامی ایران در سال ۱۳۵۸ تو...   \n",
              "7262        7262  قانون اساسی جمهوری اسلامی ایران در سال ۱۳۵۸ تو...   \n",
              "7263        7263  قانون اساسی جمهوری اسلامی ایران در سال ۱۳۵۸ تو...   \n",
              "7264        7264  محاصره اقتصادی پیامبر (ص) و یارانش که در سال ه...   \n",
              "7265        7265  محاصره اقتصادی پیامبر (ص) و یارانش که در سال ه...   \n",
              "\n",
              "                                             hypothesis label  premise_length  \\\n",
              "0     نخستین انتقال و نفوذ طبیعی فرهنگ و تمدن اسلامی...     e              37   \n",
              "1     کانون های جغرافیایی مصر، اندلس و شام، نخستین ر...     c              37   \n",
              "2     سیسیل بعد از اسپانیا بزرگ ترین کانونی بود که ه...     n              37   \n",
              "3     نقاشی های تزئینی و تندیس های بی‌کیفیت، یکی از ...     e              27   \n",
              "4     با کیفیت بودن تندیس های دوره اموی، یکی از ویژگ...     c              27   \n",
              "...                                                 ...   ...             ...   \n",
              "7261  تعداد فصول قانون اساسی ۱۴ و تعداد اصول آن ۱۷۷ ...     e              37   \n",
              "7262        قانون اساسی دارای ۲۵ فصل و ۱۷۵ اصل می باشد.     c              37   \n",
              "7263  در ۲۴ آبان ۵۸ کار تدوین قانون اساسی به پایان ر...     n              37   \n",
              "7264  حضرت محمد (ص) و یارانش از ششمین سال بعثت تا هش...     c              33   \n",
              "7265  در دوران محاصره اقتصادی رسول اکرم (ص) و پیروان...     n              33   \n",
              "\n",
              "      hypothesis_length                                    cleaned_premise  \\\n",
              "0                    33  اولین انتقال و نفوذ طبیعی فرهنگ و تمدن اسلامی ...   \n",
              "1                    37  اولین انتقال و نفوذ طبیعی فرهنگ و تمدن اسلامی ...   \n",
              "2                    34  اولین انتقال و نفوذ طبیعی فرهنگ و تمدن اسلامی ...   \n",
              "3                    17  ویژگی‌های هنر عصر اموی: ۱ - تلفیقی بودن ۲ - با...   \n",
              "4                    17  ویژگی‌های هنر عصر اموی: ۱ - تلفیقی بودن ۲ - با...   \n",
              "...                 ...                                                ...   \n",
              "7261                 12  قانون اساسی جمهوری اسلامی ایران در سال ۱۳۵۸ تو...   \n",
              "7262                 11  قانون اساسی جمهوری اسلامی ایران در سال ۱۳۵۸ تو...   \n",
              "7263                 12  قانون اساسی جمهوری اسلامی ایران در سال ۱۳۵۸ تو...   \n",
              "7264                 20  محاصره اقتصادی پیامبر (ص) و یارانش که در سال ه...   \n",
              "7265                 20  محاصره اقتصادی پیامبر (ص) و یارانش که در سال ه...   \n",
              "\n",
              "                                     cleaned_hypothesis  \n",
              "0     نخستین انتقال و نفوذ طبیعی فرهنگ و تمدن اسلامی...  \n",
              "1     کانون‌های جغرافیایی مصر، اندلس و شام، نخستین ر...  \n",
              "2     سیسیل بعد از اسپانیا بزرگ‌ترین کانونی بود که ه...  \n",
              "3     نقاشی‌های تزئینی و تندیس‌های بی‌کیفیت، یکی از ...  \n",
              "4     با کیفیت بودن تندیس‌های دوره اموی، یکی از ویژگ...  \n",
              "...                                                 ...  \n",
              "7261  تعداد فصول قانون اساسی ۱۴ و تعداد اصول آن ۱۷۷ ...  \n",
              "7262        قانون اساسی دارای ۲۵ فصل و ۱۷۵ اصل می‌باشد.  \n",
              "7263  در ۲۴ آبان ۵۸ کار تدوین قانون اساسی به پایان ر...  \n",
              "7264  حضرت محمد (ص) و یارانش از ششمین سال بعثت تا هش...  \n",
              "7265  در دوران محاصره اقتصادی رسول اکرم (ص) و پیروان...  \n",
              "\n",
              "[7266 rows x 8 columns]"
            ]
          },
          "execution_count": 42,
          "metadata": {},
          "output_type": "execute_result"
        }
      ],
      "source": [
        "df"
      ]
    },
    {
      "cell_type": "code",
      "execution_count": 17,
      "metadata": {
        "colab": {
          "base_uri": "https://localhost:8080/"
        },
        "id": "PFQk6pbuvFKg",
        "outputId": "42c50096-5970-4eb6-9c66-c9498a9ad192"
      },
      "outputs": [
        {
          "name": "stdout",
          "output_type": "stream",
          "text": [
            "data information\n",
            "<class 'pandas.core.frame.DataFrame'>\n",
            "RangeIndex: 7266 entries, 0 to 7265\n",
            "Data columns (total 5 columns):\n",
            " #   Column             Non-Null Count  Dtype \n",
            "---  ------             --------------  ----- \n",
            " 0   premise            7266 non-null   object\n",
            " 1   hypothesis         7266 non-null   object\n",
            " 2   label              7266 non-null   object\n",
            " 3   premise_length     7266 non-null   int64 \n",
            " 4   hypothesis_length  7266 non-null   int64 \n",
            "dtypes: int64(2), object(3)\n",
            "memory usage: 284.0+ KB\n",
            "None \n",
            "\n",
            "missing values stats\n",
            "premise              0\n",
            "hypothesis           0\n",
            "label                0\n",
            "premise_length       0\n",
            "hypothesis_length    0\n",
            "dtype: int64 \n",
            "\n"
          ]
        }
      ],
      "source": [
        "print('data information')\n",
        "print(df.info(), '\\n')\n",
        "\n",
        "print('missing values stats')\n",
        "print(df.isnull().sum(), '\\n')"
      ]
    },
    {
      "cell_type": "code",
      "execution_count": 20,
      "metadata": {
        "id": "WnnGS4ATCGrp"
      },
      "outputs": [],
      "source": [
        "import re\n",
        "import hazm\n",
        "from cleantext import clean\n",
        "\n",
        "def cleanhtml(raw_html):\n",
        "    cleanr = re.compile('<.*?>')\n",
        "    cleantext = re.sub(cleanr, '', raw_html)\n",
        "    return cleantext\n",
        "\n",
        "\n",
        "def cleaning(text):\n",
        "    text = text.strip()\n",
        "\n",
        "    # regular cleaning\n",
        "    text = clean(text,\n",
        "        fix_unicode=True,\n",
        "        to_ascii=False,\n",
        "        lower=True,\n",
        "        no_line_breaks=True,\n",
        "        no_urls=True,\n",
        "        no_emails=True,\n",
        "        no_phone_numbers=True,\n",
        "        no_numbers=False,\n",
        "        no_digits=False,\n",
        "        no_currency_symbols=True,\n",
        "        no_punct=False,\n",
        "        replace_with_url=\"\",\n",
        "        replace_with_email=\"\",\n",
        "        replace_with_phone_number=\"\",\n",
        "        replace_with_number=\"\",\n",
        "        replace_with_digit=\"0\",\n",
        "        replace_with_currency_symbol=\"\",\n",
        "    )\n",
        "\n",
        "    # cleaning htmls\n",
        "    text = cleanhtml(text)\n",
        "\n",
        "    # normalizing\n",
        "    normalizer = hazm.Normalizer()\n",
        "    text = normalizer.normalize(text)\n",
        "\n",
        "    # removing wierd patterns\n",
        "    wierd_pattern = re.compile(\"[\"\n",
        "        u\"\\U0001F600-\\U0001F64F\"  # emoticons\n",
        "        u\"\\U0001F300-\\U0001F5FF\"  # symbols & pictographs\n",
        "        u\"\\U0001F680-\\U0001F6FF\"  # transport & map symbols\n",
        "        u\"\\U0001F1E0-\\U0001F1FF\"  # flags (iOS)\n",
        "        u\"\\U00002702-\\U000027B0\"\n",
        "        u\"\\U000024C2-\\U0001F251\"\n",
        "        u\"\\U0001f926-\\U0001f937\"\n",
        "        u'\\U00010000-\\U0010ffff'\n",
        "        u\"\\u200d\"\n",
        "        u\"\\u2640-\\u2642\"\n",
        "        u\"\\u2600-\\u2B55\"\n",
        "        u\"\\u23cf\"\n",
        "        u\"\\u23e9\"\n",
        "        u\"\\u231a\"\n",
        "        u\"\\u3030\"\n",
        "        u\"\\ufe0f\"\n",
        "        u\"\\u2069\"\n",
        "        u\"\\u2066\"\n",
        "        u\"\\u2068\"\n",
        "        u\"\\u2067\"\n",
        "        \"]+\", flags=re.UNICODE)\n",
        "\n",
        "    text = wierd_pattern.sub(r'', text)\n",
        "\n",
        "    # removing extra spaces, hashtags\n",
        "    text = re.sub(\"#\", \"\", text)\n",
        "    text = re.sub(\"\\s+\", \" \", text)\n",
        "\n",
        "    return text\n"
      ]
    },
    {
      "cell_type": "code",
      "execution_count": 13,
      "metadata": {
        "id": "-Hl4gDCCC6H1"
      },
      "outputs": [],
      "source": [
        "#df['cleaned_premise'] = df['premise'].apply(cleaning)\n",
        "#df['cleaned_hypothesis'] = df['hypothesis'].apply(cleaning)\n",
        "\n",
        "df = pd.read_csv('./cleaned.csv')"
      ]
    },
    {
      "cell_type": "code",
      "execution_count": 14,
      "metadata": {
        "colab": {
          "base_uri": "https://localhost:8080/",
          "height": 615
        },
        "id": "UyU5GjmoDvJG",
        "outputId": "deac1c78-4153-46ff-e8a8-3ed6b416d170"
      },
      "outputs": [
        {
          "data": {
            "text/html": [
              "<div>\n",
              "<style scoped>\n",
              "    .dataframe tbody tr th:only-of-type {\n",
              "        vertical-align: middle;\n",
              "    }\n",
              "\n",
              "    .dataframe tbody tr th {\n",
              "        vertical-align: top;\n",
              "    }\n",
              "\n",
              "    .dataframe thead th {\n",
              "        text-align: right;\n",
              "    }\n",
              "</style>\n",
              "<table border=\"1\" class=\"dataframe\">\n",
              "  <thead>\n",
              "    <tr style=\"text-align: right;\">\n",
              "      <th></th>\n",
              "      <th>Unnamed: 0</th>\n",
              "      <th>premise</th>\n",
              "      <th>hypothesis</th>\n",
              "      <th>label</th>\n",
              "      <th>premise_length</th>\n",
              "      <th>hypothesis_length</th>\n",
              "      <th>cleaned_premise</th>\n",
              "      <th>cleaned_hypothesis</th>\n",
              "    </tr>\n",
              "  </thead>\n",
              "  <tbody>\n",
              "    <tr>\n",
              "      <th>0</th>\n",
              "      <td>0</td>\n",
              "      <td>اولین انتقال و نفوذ طبیعی فرهنگ و تمدن اسلامی ...</td>\n",
              "      <td>نخستین انتقال و نفوذ طبیعی فرهنگ و تمدن اسلامی...</td>\n",
              "      <td>e</td>\n",
              "      <td>37</td>\n",
              "      <td>33</td>\n",
              "      <td>اولین انتقال و نفوذ طبیعی فرهنگ و تمدن اسلامی ...</td>\n",
              "      <td>نخستین انتقال و نفوذ طبیعی فرهنگ و تمدن اسلامی...</td>\n",
              "    </tr>\n",
              "    <tr>\n",
              "      <th>1</th>\n",
              "      <td>1</td>\n",
              "      <td>اولین انتقال و نفوذ طبیعی فرهنگ و تمدن اسلامی ...</td>\n",
              "      <td>کانون های جغرافیایی مصر، اندلس و شام، نخستین ر...</td>\n",
              "      <td>c</td>\n",
              "      <td>37</td>\n",
              "      <td>37</td>\n",
              "      <td>اولین انتقال و نفوذ طبیعی فرهنگ و تمدن اسلامی ...</td>\n",
              "      <td>کانون‌های جغرافیایی مصر، اندلس و شام، نخستین ر...</td>\n",
              "    </tr>\n",
              "    <tr>\n",
              "      <th>2</th>\n",
              "      <td>2</td>\n",
              "      <td>اولین انتقال و نفوذ طبیعی فرهنگ و تمدن اسلامی ...</td>\n",
              "      <td>سیسیل بعد از اسپانیا بزرگ ترین کانونی بود که ه...</td>\n",
              "      <td>n</td>\n",
              "      <td>37</td>\n",
              "      <td>34</td>\n",
              "      <td>اولین انتقال و نفوذ طبیعی فرهنگ و تمدن اسلامی ...</td>\n",
              "      <td>سیسیل بعد از اسپانیا بزرگ‌ترین کانونی بود که ه...</td>\n",
              "    </tr>\n",
              "    <tr>\n",
              "      <th>3</th>\n",
              "      <td>3</td>\n",
              "      <td>ویژگی های هنر عصر اموی: ۱- تلفیقی بودن ۲- بازن...</td>\n",
              "      <td>نقاشی های تزئینی و تندیس های بی‌کیفیت، یکی از ...</td>\n",
              "      <td>e</td>\n",
              "      <td>27</td>\n",
              "      <td>17</td>\n",
              "      <td>ویژگی‌های هنر عصر اموی: ۱ - تلفیقی بودن ۲ - با...</td>\n",
              "      <td>نقاشی‌های تزئینی و تندیس‌های بی‌کیفیت، یکی از ...</td>\n",
              "    </tr>\n",
              "    <tr>\n",
              "      <th>4</th>\n",
              "      <td>4</td>\n",
              "      <td>ویژگی های هنر عصر اموی: ۱- تلفیقی بودن ۲- بازن...</td>\n",
              "      <td>با کیفیت بودن تندیس های دوره اموی، یکی از ویژگ...</td>\n",
              "      <td>c</td>\n",
              "      <td>27</td>\n",
              "      <td>17</td>\n",
              "      <td>ویژگی‌های هنر عصر اموی: ۱ - تلفیقی بودن ۲ - با...</td>\n",
              "      <td>با کیفیت بودن تندیس‌های دوره اموی، یکی از ویژگ...</td>\n",
              "    </tr>\n",
              "    <tr>\n",
              "      <th>...</th>\n",
              "      <td>...</td>\n",
              "      <td>...</td>\n",
              "      <td>...</td>\n",
              "      <td>...</td>\n",
              "      <td>...</td>\n",
              "      <td>...</td>\n",
              "      <td>...</td>\n",
              "      <td>...</td>\n",
              "    </tr>\n",
              "    <tr>\n",
              "      <th>7261</th>\n",
              "      <td>7261</td>\n",
              "      <td>قانون اساسی جمهوری اسلامی ایران در سال ۱۳۵۸ تو...</td>\n",
              "      <td>تعداد فصول قانون اساسی ۱۴ و تعداد اصول آن ۱۷۷ ...</td>\n",
              "      <td>e</td>\n",
              "      <td>37</td>\n",
              "      <td>12</td>\n",
              "      <td>قانون اساسی جمهوری اسلامی ایران در سال ۱۳۵۸ تو...</td>\n",
              "      <td>تعداد فصول قانون اساسی ۱۴ و تعداد اصول آن ۱۷۷ ...</td>\n",
              "    </tr>\n",
              "    <tr>\n",
              "      <th>7262</th>\n",
              "      <td>7262</td>\n",
              "      <td>قانون اساسی جمهوری اسلامی ایران در سال ۱۳۵۸ تو...</td>\n",
              "      <td>قانون اساسی دارای ۲۵ فصل و ۱۷۵ اصل می باشد.</td>\n",
              "      <td>c</td>\n",
              "      <td>37</td>\n",
              "      <td>11</td>\n",
              "      <td>قانون اساسی جمهوری اسلامی ایران در سال ۱۳۵۸ تو...</td>\n",
              "      <td>قانون اساسی دارای ۲۵ فصل و ۱۷۵ اصل می‌باشد.</td>\n",
              "    </tr>\n",
              "    <tr>\n",
              "      <th>7263</th>\n",
              "      <td>7263</td>\n",
              "      <td>قانون اساسی جمهوری اسلامی ایران در سال ۱۳۵۸ تو...</td>\n",
              "      <td>در ۲۴ آبان ۵۸ کار تدوین قانون اساسی به پایان ر...</td>\n",
              "      <td>n</td>\n",
              "      <td>37</td>\n",
              "      <td>12</td>\n",
              "      <td>قانون اساسی جمهوری اسلامی ایران در سال ۱۳۵۸ تو...</td>\n",
              "      <td>در ۲۴ آبان ۵۸ کار تدوین قانون اساسی به پایان ر...</td>\n",
              "    </tr>\n",
              "    <tr>\n",
              "      <th>7264</th>\n",
              "      <td>7264</td>\n",
              "      <td>محاصره اقتصادی پیامبر (ص) و یارانش که در سال ه...</td>\n",
              "      <td>حضرت محمد (ص) و یارانش از ششمین سال بعثت تا هش...</td>\n",
              "      <td>c</td>\n",
              "      <td>33</td>\n",
              "      <td>20</td>\n",
              "      <td>محاصره اقتصادی پیامبر (ص) و یارانش که در سال ه...</td>\n",
              "      <td>حضرت محمد (ص) و یارانش از ششمین سال بعثت تا هش...</td>\n",
              "    </tr>\n",
              "    <tr>\n",
              "      <th>7265</th>\n",
              "      <td>7265</td>\n",
              "      <td>محاصره اقتصادی پیامبر (ص) و یارانش که در سال ه...</td>\n",
              "      <td>در دوران محاصره اقتصادی رسول اکرم (ص) و پیروان...</td>\n",
              "      <td>n</td>\n",
              "      <td>33</td>\n",
              "      <td>20</td>\n",
              "      <td>محاصره اقتصادی پیامبر (ص) و یارانش که در سال ه...</td>\n",
              "      <td>در دوران محاصره اقتصادی رسول اکرم (ص) و پیروان...</td>\n",
              "    </tr>\n",
              "  </tbody>\n",
              "</table>\n",
              "<p>7266 rows × 8 columns</p>\n",
              "</div>"
            ],
            "text/plain": [
              "      Unnamed: 0                                            premise  \\\n",
              "0              0  اولین انتقال و نفوذ طبیعی فرهنگ و تمدن اسلامی ...   \n",
              "1              1  اولین انتقال و نفوذ طبیعی فرهنگ و تمدن اسلامی ...   \n",
              "2              2  اولین انتقال و نفوذ طبیعی فرهنگ و تمدن اسلامی ...   \n",
              "3              3  ویژگی های هنر عصر اموی: ۱- تلفیقی بودن ۲- بازن...   \n",
              "4              4  ویژگی های هنر عصر اموی: ۱- تلفیقی بودن ۲- بازن...   \n",
              "...          ...                                                ...   \n",
              "7261        7261  قانون اساسی جمهوری اسلامی ایران در سال ۱۳۵۸ تو...   \n",
              "7262        7262  قانون اساسی جمهوری اسلامی ایران در سال ۱۳۵۸ تو...   \n",
              "7263        7263  قانون اساسی جمهوری اسلامی ایران در سال ۱۳۵۸ تو...   \n",
              "7264        7264  محاصره اقتصادی پیامبر (ص) و یارانش که در سال ه...   \n",
              "7265        7265  محاصره اقتصادی پیامبر (ص) و یارانش که در سال ه...   \n",
              "\n",
              "                                             hypothesis label  premise_length  \\\n",
              "0     نخستین انتقال و نفوذ طبیعی فرهنگ و تمدن اسلامی...     e              37   \n",
              "1     کانون های جغرافیایی مصر، اندلس و شام، نخستین ر...     c              37   \n",
              "2     سیسیل بعد از اسپانیا بزرگ ترین کانونی بود که ه...     n              37   \n",
              "3     نقاشی های تزئینی و تندیس های بی‌کیفیت، یکی از ...     e              27   \n",
              "4     با کیفیت بودن تندیس های دوره اموی، یکی از ویژگ...     c              27   \n",
              "...                                                 ...   ...             ...   \n",
              "7261  تعداد فصول قانون اساسی ۱۴ و تعداد اصول آن ۱۷۷ ...     e              37   \n",
              "7262        قانون اساسی دارای ۲۵ فصل و ۱۷۵ اصل می باشد.     c              37   \n",
              "7263  در ۲۴ آبان ۵۸ کار تدوین قانون اساسی به پایان ر...     n              37   \n",
              "7264  حضرت محمد (ص) و یارانش از ششمین سال بعثت تا هش...     c              33   \n",
              "7265  در دوران محاصره اقتصادی رسول اکرم (ص) و پیروان...     n              33   \n",
              "\n",
              "      hypothesis_length                                    cleaned_premise  \\\n",
              "0                    33  اولین انتقال و نفوذ طبیعی فرهنگ و تمدن اسلامی ...   \n",
              "1                    37  اولین انتقال و نفوذ طبیعی فرهنگ و تمدن اسلامی ...   \n",
              "2                    34  اولین انتقال و نفوذ طبیعی فرهنگ و تمدن اسلامی ...   \n",
              "3                    17  ویژگی‌های هنر عصر اموی: ۱ - تلفیقی بودن ۲ - با...   \n",
              "4                    17  ویژگی‌های هنر عصر اموی: ۱ - تلفیقی بودن ۲ - با...   \n",
              "...                 ...                                                ...   \n",
              "7261                 12  قانون اساسی جمهوری اسلامی ایران در سال ۱۳۵۸ تو...   \n",
              "7262                 11  قانون اساسی جمهوری اسلامی ایران در سال ۱۳۵۸ تو...   \n",
              "7263                 12  قانون اساسی جمهوری اسلامی ایران در سال ۱۳۵۸ تو...   \n",
              "7264                 20  محاصره اقتصادی پیامبر (ص) و یارانش که در سال ه...   \n",
              "7265                 20  محاصره اقتصادی پیامبر (ص) و یارانش که در سال ه...   \n",
              "\n",
              "                                     cleaned_hypothesis  \n",
              "0     نخستین انتقال و نفوذ طبیعی فرهنگ و تمدن اسلامی...  \n",
              "1     کانون‌های جغرافیایی مصر، اندلس و شام، نخستین ر...  \n",
              "2     سیسیل بعد از اسپانیا بزرگ‌ترین کانونی بود که ه...  \n",
              "3     نقاشی‌های تزئینی و تندیس‌های بی‌کیفیت، یکی از ...  \n",
              "4     با کیفیت بودن تندیس‌های دوره اموی، یکی از ویژگ...  \n",
              "...                                                 ...  \n",
              "7261  تعداد فصول قانون اساسی ۱۴ و تعداد اصول آن ۱۷۷ ...  \n",
              "7262        قانون اساسی دارای ۲۵ فصل و ۱۷۵ اصل می‌باشد.  \n",
              "7263  در ۲۴ آبان ۵۸ کار تدوین قانون اساسی به پایان ر...  \n",
              "7264  حضرت محمد (ص) و یارانش از ششمین سال بعثت تا هش...  \n",
              "7265  در دوران محاصره اقتصادی رسول اکرم (ص) و پیروان...  \n",
              "\n",
              "[7266 rows x 8 columns]"
            ]
          },
          "execution_count": 14,
          "metadata": {},
          "output_type": "execute_result"
        }
      ],
      "source": [
        "df"
      ]
    },
    {
      "cell_type": "code",
      "execution_count": 15,
      "metadata": {
        "colab": {
          "base_uri": "https://localhost:8080/",
          "height": 424
        },
        "id": "P2-wWnB91UgN",
        "outputId": "078c0e5c-c42b-49e2-bcd6-b2ff5553aa0b"
      },
      "outputs": [
        {
          "data": {
            "text/html": [
              "<div>\n",
              "<style scoped>\n",
              "    .dataframe tbody tr th:only-of-type {\n",
              "        vertical-align: middle;\n",
              "    }\n",
              "\n",
              "    .dataframe tbody tr th {\n",
              "        vertical-align: top;\n",
              "    }\n",
              "\n",
              "    .dataframe thead th {\n",
              "        text-align: right;\n",
              "    }\n",
              "</style>\n",
              "<table border=\"1\" class=\"dataframe\">\n",
              "  <thead>\n",
              "    <tr style=\"text-align: right;\">\n",
              "      <th></th>\n",
              "      <th>Unnamed: 0</th>\n",
              "      <th>premise</th>\n",
              "      <th>hypothesis</th>\n",
              "      <th>label</th>\n",
              "      <th>cleaned_premise</th>\n",
              "      <th>cleaned_hypothesis</th>\n",
              "    </tr>\n",
              "  </thead>\n",
              "  <tbody>\n",
              "    <tr>\n",
              "      <th>0</th>\n",
              "      <td>0</td>\n",
              "      <td>یکی از سرآمدانی که بر تارک علمی مدرسه اسکندریه...</td>\n",
              "      <td>کتاب مگیستی (المجسطی) از آثار بطلمیوس است و از...</td>\n",
              "      <td>e</td>\n",
              "      <td>یکی از سرآمدانی که بر تارک علمی مدرسه اسکندریه...</td>\n",
              "      <td>کتاب مگیستی (المجسطی) از آثار بطلمیوس است و از...</td>\n",
              "    </tr>\n",
              "    <tr>\n",
              "      <th>1</th>\n",
              "      <td>1</td>\n",
              "      <td>یکی از سرآمدانی که بر تارک علمی مدرسه اسکندریه...</td>\n",
              "      <td>المجسطی (مگیستی)، یکی از کتاب های هرون از مکتب...</td>\n",
              "      <td>c</td>\n",
              "      <td>یکی از سرآمدانی که بر تارک علمی مدرسه اسکندریه...</td>\n",
              "      <td>المجسطی (مگیستی)، یکی از کتاب‌های هرون از مکتب...</td>\n",
              "    </tr>\n",
              "    <tr>\n",
              "      <th>2</th>\n",
              "      <td>2</td>\n",
              "      <td>یکی از سرآمدانی که بر تارک علمی مدرسه اسکندریه...</td>\n",
              "      <td>ترجمه المجسطی، پایه تهیه جداول نجومی گردید که ...</td>\n",
              "      <td>n</td>\n",
              "      <td>یکی از سرآمدانی که بر تارک علمی مدرسه اسکندریه...</td>\n",
              "      <td>ترجمه المجسطی، پایه تهیه جداول نجومی گردید که ...</td>\n",
              "    </tr>\n",
              "    <tr>\n",
              "      <th>3</th>\n",
              "      <td>3</td>\n",
              "      <td>تاریخ پزشکی یونانی با بقراط معروف است. آثار طب...</td>\n",
              "      <td>کتاب کلمات قصار یا فصول، اثر بقراط است.</td>\n",
              "      <td>e</td>\n",
              "      <td>تاریخ پزشکی یونانی با بقراط معروف است. آثار طب...</td>\n",
              "      <td>کتاب کلمات قصار یا فصول، اثر بقراط است.</td>\n",
              "    </tr>\n",
              "    <tr>\n",
              "      <th>4</th>\n",
              "      <td>4</td>\n",
              "      <td>تاریخ پزشکی یونانی با بقراط معروف است. آثار طب...</td>\n",
              "      <td>جالینوس، نویسنده کتاب کلمات قصار بوده است.</td>\n",
              "      <td>c</td>\n",
              "      <td>تاریخ پزشکی یونانی با بقراط معروف است. آثار طب...</td>\n",
              "      <td>جالینوس، نویسنده کتاب کلمات قصار بوده است.</td>\n",
              "    </tr>\n",
              "    <tr>\n",
              "      <th>...</th>\n",
              "      <td>...</td>\n",
              "      <td>...</td>\n",
              "      <td>...</td>\n",
              "      <td>...</td>\n",
              "      <td>...</td>\n",
              "      <td>...</td>\n",
              "    </tr>\n",
              "    <tr>\n",
              "      <th>1532</th>\n",
              "      <td>1532</td>\n",
              "      <td>فقط ۶ کشور قطر, عمان، کویت، امارات، بحرین و عر...</td>\n",
              "      <td>عراق از اعضای تشکیل دهنده ی \"شورای همکاری خلیج...</td>\n",
              "      <td>c</td>\n",
              "      <td>فقط ۶ کشور قطر, عمان، کویت، امارات، بحرین و عر...</td>\n",
              "      <td>عراق از اعضای تشکیل‌دهنده‌ی «شورای همکاری خلیج...</td>\n",
              "    </tr>\n",
              "    <tr>\n",
              "      <th>1533</th>\n",
              "      <td>1533</td>\n",
              "      <td>فقط ۶ کشور قطر, عمان، کویت، امارات، بحرین و عر...</td>\n",
              "      <td>ایجاد مراکز تحقیقاتی-علمی از اهداف \"شورای همکا...</td>\n",
              "      <td>n</td>\n",
              "      <td>فقط ۶ کشور قطر, عمان، کویت، امارات، بحرین و عر...</td>\n",
              "      <td>ایجاد مراکز تحقیقاتی-علمی از اهداف «شورای همکا...</td>\n",
              "    </tr>\n",
              "    <tr>\n",
              "      <th>1534</th>\n",
              "      <td>1534</td>\n",
              "      <td>امام خمینی پنج هجرت مهم داشته اند که از قرار ز...</td>\n",
              "      <td>حضرت امام خمینی (ره) برای اولین بار به ترکیه ت...</td>\n",
              "      <td>e</td>\n",
              "      <td>امام خمینی پنج هجرت مهم داشته‌اند که از قرار ز...</td>\n",
              "      <td>حضرت امام خمینی (ره) برای اولین بار به ترکیه ت...</td>\n",
              "    </tr>\n",
              "    <tr>\n",
              "      <th>1535</th>\n",
              "      <td>1535</td>\n",
              "      <td>امام خمینی پنج هجرت مهم داشته اند که از قرار ز...</td>\n",
              "      <td>عراق اولین کشوری بود که امام خمینی به آن تبعید...</td>\n",
              "      <td>c</td>\n",
              "      <td>امام خمینی پنج هجرت مهم داشته‌اند که از قرار ز...</td>\n",
              "      <td>عراق اولین کشوری بود که امام خمینی به آن تبعید...</td>\n",
              "    </tr>\n",
              "    <tr>\n",
              "      <th>1536</th>\n",
              "      <td>1536</td>\n",
              "      <td>امام خمینی پنج هجرت مهم داشته اند که از قرار ز...</td>\n",
              "      <td>این هجرت ها، امکان ارتباط با دیگر مسلمانان و ا...</td>\n",
              "      <td>n</td>\n",
              "      <td>امام خمینی پنج هجرت مهم داشته‌اند که از قرار ز...</td>\n",
              "      <td>این هجرت‌ها، امکان ارتباط با دیگر مسلمانان و ا...</td>\n",
              "    </tr>\n",
              "  </tbody>\n",
              "</table>\n",
              "<p>1537 rows × 6 columns</p>\n",
              "</div>"
            ],
            "text/plain": [
              "      Unnamed: 0                                            premise  \\\n",
              "0              0  یکی از سرآمدانی که بر تارک علمی مدرسه اسکندریه...   \n",
              "1              1  یکی از سرآمدانی که بر تارک علمی مدرسه اسکندریه...   \n",
              "2              2  یکی از سرآمدانی که بر تارک علمی مدرسه اسکندریه...   \n",
              "3              3  تاریخ پزشکی یونانی با بقراط معروف است. آثار طب...   \n",
              "4              4  تاریخ پزشکی یونانی با بقراط معروف است. آثار طب...   \n",
              "...          ...                                                ...   \n",
              "1532        1532  فقط ۶ کشور قطر, عمان، کویت، امارات، بحرین و عر...   \n",
              "1533        1533  فقط ۶ کشور قطر, عمان، کویت، امارات، بحرین و عر...   \n",
              "1534        1534  امام خمینی پنج هجرت مهم داشته اند که از قرار ز...   \n",
              "1535        1535  امام خمینی پنج هجرت مهم داشته اند که از قرار ز...   \n",
              "1536        1536  امام خمینی پنج هجرت مهم داشته اند که از قرار ز...   \n",
              "\n",
              "                                             hypothesis label  \\\n",
              "0     کتاب مگیستی (المجسطی) از آثار بطلمیوس است و از...     e   \n",
              "1     المجسطی (مگیستی)، یکی از کتاب های هرون از مکتب...     c   \n",
              "2     ترجمه المجسطی، پایه تهیه جداول نجومی گردید که ...     n   \n",
              "3               کتاب کلمات قصار یا فصول، اثر بقراط است.     e   \n",
              "4            جالینوس، نویسنده کتاب کلمات قصار بوده است.     c   \n",
              "...                                                 ...   ...   \n",
              "1532  عراق از اعضای تشکیل دهنده ی \"شورای همکاری خلیج...     c   \n",
              "1533  ایجاد مراکز تحقیقاتی-علمی از اهداف \"شورای همکا...     n   \n",
              "1534  حضرت امام خمینی (ره) برای اولین بار به ترکیه ت...     e   \n",
              "1535  عراق اولین کشوری بود که امام خمینی به آن تبعید...     c   \n",
              "1536  این هجرت ها، امکان ارتباط با دیگر مسلمانان و ا...     n   \n",
              "\n",
              "                                        cleaned_premise  \\\n",
              "0     یکی از سرآمدانی که بر تارک علمی مدرسه اسکندریه...   \n",
              "1     یکی از سرآمدانی که بر تارک علمی مدرسه اسکندریه...   \n",
              "2     یکی از سرآمدانی که بر تارک علمی مدرسه اسکندریه...   \n",
              "3     تاریخ پزشکی یونانی با بقراط معروف است. آثار طب...   \n",
              "4     تاریخ پزشکی یونانی با بقراط معروف است. آثار طب...   \n",
              "...                                                 ...   \n",
              "1532  فقط ۶ کشور قطر, عمان، کویت، امارات، بحرین و عر...   \n",
              "1533  فقط ۶ کشور قطر, عمان، کویت، امارات، بحرین و عر...   \n",
              "1534  امام خمینی پنج هجرت مهم داشته‌اند که از قرار ز...   \n",
              "1535  امام خمینی پنج هجرت مهم داشته‌اند که از قرار ز...   \n",
              "1536  امام خمینی پنج هجرت مهم داشته‌اند که از قرار ز...   \n",
              "\n",
              "                                     cleaned_hypothesis  \n",
              "0     کتاب مگیستی (المجسطی) از آثار بطلمیوس است و از...  \n",
              "1     المجسطی (مگیستی)، یکی از کتاب‌های هرون از مکتب...  \n",
              "2     ترجمه المجسطی، پایه تهیه جداول نجومی گردید که ...  \n",
              "3               کتاب کلمات قصار یا فصول، اثر بقراط است.  \n",
              "4            جالینوس، نویسنده کتاب کلمات قصار بوده است.  \n",
              "...                                                 ...  \n",
              "1532  عراق از اعضای تشکیل‌دهنده‌ی «شورای همکاری خلیج...  \n",
              "1533  ایجاد مراکز تحقیقاتی-علمی از اهداف «شورای همکا...  \n",
              "1534  حضرت امام خمینی (ره) برای اولین بار به ترکیه ت...  \n",
              "1535  عراق اولین کشوری بود که امام خمینی به آن تبعید...  \n",
              "1536  این هجرت‌ها، امکان ارتباط با دیگر مسلمانان و ا...  \n",
              "\n",
              "[1537 rows x 6 columns]"
            ]
          },
          "execution_count": 15,
          "metadata": {},
          "output_type": "execute_result"
        }
      ],
      "source": [
        "# data_path = './FarsTail/data/Val-word.csv'\n",
        "# val_df = pd.read_csv(data_path, sep='\\t')\n",
        "\n",
        "# val_df['cleaned_premise'] = val_df['premise'].apply(cleaning)\n",
        "# val_df['cleaned_hypothesis'] = val_df['hypothesis'].apply(cleaning)\n",
        "\n",
        "val_df = pd.read_csv('./cleaned_val.csv')\n",
        "val_df"
      ]
    },
    {
      "cell_type": "code",
      "execution_count": 16,
      "metadata": {},
      "outputs": [
        {
          "data": {
            "text/html": [
              "<div>\n",
              "<style scoped>\n",
              "    .dataframe tbody tr th:only-of-type {\n",
              "        vertical-align: middle;\n",
              "    }\n",
              "\n",
              "    .dataframe tbody tr th {\n",
              "        vertical-align: top;\n",
              "    }\n",
              "\n",
              "    .dataframe thead th {\n",
              "        text-align: right;\n",
              "    }\n",
              "</style>\n",
              "<table border=\"1\" class=\"dataframe\">\n",
              "  <thead>\n",
              "    <tr style=\"text-align: right;\">\n",
              "      <th></th>\n",
              "      <th>Unnamed: 0</th>\n",
              "      <th>premise</th>\n",
              "      <th>hypothesis</th>\n",
              "      <th>label</th>\n",
              "      <th>hard(hypothesis)</th>\n",
              "      <th>hard(overlap)</th>\n",
              "      <th>cleaned_premise</th>\n",
              "      <th>cleaned_hypothesis</th>\n",
              "    </tr>\n",
              "  </thead>\n",
              "  <tbody>\n",
              "    <tr>\n",
              "      <th>0</th>\n",
              "      <td>0</td>\n",
              "      <td>دوران امامت امام صادق علیه السلام، مصادف است ب...</td>\n",
              "      <td>امام سجاد (ع) در دورانی امامت کردند که همزمان ...</td>\n",
              "      <td>c</td>\n",
              "      <td>0</td>\n",
              "      <td>1</td>\n",
              "      <td>دوران امامت امام صادق علیه‌السلام، مصادف است ب...</td>\n",
              "      <td>امام سجاد (ع) در دورانی امامت کردند که همزمان ...</td>\n",
              "    </tr>\n",
              "    <tr>\n",
              "      <th>1</th>\n",
              "      <td>1</td>\n",
              "      <td>دوران امامت امام صادق علیه السلام، مصادف است ب...</td>\n",
              "      <td>دستگاه فاسد حکومتی با صرف هزینه های هنگفت، سعی...</td>\n",
              "      <td>n</td>\n",
              "      <td>1</td>\n",
              "      <td>0</td>\n",
              "      <td>دوران امامت امام صادق علیه‌السلام، مصادف است ب...</td>\n",
              "      <td>دستگاه فاسد حکومتی با صرف هزینه‌های هنگفت، سعی...</td>\n",
              "    </tr>\n",
              "    <tr>\n",
              "      <th>2</th>\n",
              "      <td>2</td>\n",
              "      <td>با شهادت امام رضا(ع) مرحله جدیدی از تلاش ائمه ...</td>\n",
              "      <td>دوران محنت اهل بیت پس از شهادت امام رضا(ع) آغا...</td>\n",
              "      <td>e</td>\n",
              "      <td>0</td>\n",
              "      <td>0</td>\n",
              "      <td>با شهادت امام رضا (ع) مرحله جدیدی از تلاش ائمه...</td>\n",
              "      <td>دوران محنت اهل‌بیت پس از شهادت امام رضا (ع) آغ...</td>\n",
              "    </tr>\n",
              "    <tr>\n",
              "      <th>3</th>\n",
              "      <td>3</td>\n",
              "      <td>با شهادت امام رضا(ع) مرحله جدیدی از تلاش ائمه ...</td>\n",
              "      <td>بعد از به شهادت رسیدن امام هادی(ع) دوران محنت ...</td>\n",
              "      <td>c</td>\n",
              "      <td>1</td>\n",
              "      <td>1</td>\n",
              "      <td>با شهادت امام رضا (ع) مرحله جدیدی از تلاش ائمه...</td>\n",
              "      <td>بعد از به شهادت رسیدن امام هادی (ع) دوران محنت...</td>\n",
              "    </tr>\n",
              "    <tr>\n",
              "      <th>4</th>\n",
              "      <td>4</td>\n",
              "      <td>با شهادت امام رضا(ع) مرحله جدیدی از تلاش ائمه ...</td>\n",
              "      <td>حضرت جواد(ع) در سال ۱۹۵ هجری در مدینه ولادت یافت.</td>\n",
              "      <td>n</td>\n",
              "      <td>1</td>\n",
              "      <td>0</td>\n",
              "      <td>با شهادت امام رضا (ع) مرحله جدیدی از تلاش ائمه...</td>\n",
              "      <td>حضرت جواد (ع) در سال ۱۹۵ هجری در مدینه ولادت ی...</td>\n",
              "    </tr>\n",
              "    <tr>\n",
              "      <th>...</th>\n",
              "      <td>...</td>\n",
              "      <td>...</td>\n",
              "      <td>...</td>\n",
              "      <td>...</td>\n",
              "      <td>...</td>\n",
              "      <td>...</td>\n",
              "      <td>...</td>\n",
              "      <td>...</td>\n",
              "    </tr>\n",
              "    <tr>\n",
              "      <th>1559</th>\n",
              "      <td>1559</td>\n",
              "      <td>دریای خَزَر یا دریای مازَندَران یا (با رواج کم...</td>\n",
              "      <td>در حاشیه ی دریای خزر کشور آذربایجان وجود ندارد.</td>\n",
              "      <td>c</td>\n",
              "      <td>0</td>\n",
              "      <td>1</td>\n",
              "      <td>دریای خزر یا دریای مازندران یا (با رواج کم) در...</td>\n",
              "      <td>در حاشیه‌ی دریای خزر کشور آذربایجان وجود ندارد.</td>\n",
              "    </tr>\n",
              "    <tr>\n",
              "      <th>1560</th>\n",
              "      <td>1560</td>\n",
              "      <td>دریای خَزَر یا دریای مازَندَران یا (با رواج کم...</td>\n",
              "      <td>جمهوری آذربایجان به ترکی آذربایجانی بزرگترین ک...</td>\n",
              "      <td>n</td>\n",
              "      <td>0</td>\n",
              "      <td>1</td>\n",
              "      <td>دریای خزر یا دریای مازندران یا (با رواج کم) در...</td>\n",
              "      <td>جمهوری آذربایجان به ترکی آذربایجانی بزرگترین ک...</td>\n",
              "    </tr>\n",
              "    <tr>\n",
              "      <th>1561</th>\n",
              "      <td>1561</td>\n",
              "      <td>اولین چاپ مطالب به زبان فارسی در روزنامه‌های ه...</td>\n",
              "      <td>اولین روزنامه فارسی در هند انتشار یافت.</td>\n",
              "      <td>e</td>\n",
              "      <td>1</td>\n",
              "      <td>0</td>\n",
              "      <td>اولین چاپ مطالب به زبان فارسی در روزنامه‌های ه...</td>\n",
              "      <td>اولین روزنامه فارسی در هند انتشار یافت.</td>\n",
              "    </tr>\n",
              "    <tr>\n",
              "      <th>1562</th>\n",
              "      <td>1562</td>\n",
              "      <td>اولین چاپ مطالب به زبان فارسی در روزنامه‌های ه...</td>\n",
              "      <td>ایران نخستین روزنامه فارسی را چاپ کرد.</td>\n",
              "      <td>c</td>\n",
              "      <td>1</td>\n",
              "      <td>0</td>\n",
              "      <td>اولین چاپ مطالب به زبان فارسی در روزنامه‌های ه...</td>\n",
              "      <td>ایران نخستین روزنامه فارسی را چاپ کرد.</td>\n",
              "    </tr>\n",
              "    <tr>\n",
              "      <th>1563</th>\n",
              "      <td>1563</td>\n",
              "      <td>اولین چاپ مطالب به زبان فارسی در روزنامه‌های ه...</td>\n",
              "      <td>اولین روزنامه چاپی که به زبان فارسی در ایران م...</td>\n",
              "      <td>n</td>\n",
              "      <td>1</td>\n",
              "      <td>1</td>\n",
              "      <td>اولین چاپ مطالب به زبان فارسی در روزنامه‌های ه...</td>\n",
              "      <td>اولین روزنامه چاپی که به زبان فارسی در ایران م...</td>\n",
              "    </tr>\n",
              "  </tbody>\n",
              "</table>\n",
              "<p>1564 rows × 8 columns</p>\n",
              "</div>"
            ],
            "text/plain": [
              "      Unnamed: 0                                            premise  \\\n",
              "0              0  دوران امامت امام صادق علیه السلام، مصادف است ب...   \n",
              "1              1  دوران امامت امام صادق علیه السلام، مصادف است ب...   \n",
              "2              2  با شهادت امام رضا(ع) مرحله جدیدی از تلاش ائمه ...   \n",
              "3              3  با شهادت امام رضا(ع) مرحله جدیدی از تلاش ائمه ...   \n",
              "4              4  با شهادت امام رضا(ع) مرحله جدیدی از تلاش ائمه ...   \n",
              "...          ...                                                ...   \n",
              "1559        1559  دریای خَزَر یا دریای مازَندَران یا (با رواج کم...   \n",
              "1560        1560  دریای خَزَر یا دریای مازَندَران یا (با رواج کم...   \n",
              "1561        1561  اولین چاپ مطالب به زبان فارسی در روزنامه‌های ه...   \n",
              "1562        1562  اولین چاپ مطالب به زبان فارسی در روزنامه‌های ه...   \n",
              "1563        1563  اولین چاپ مطالب به زبان فارسی در روزنامه‌های ه...   \n",
              "\n",
              "                                             hypothesis label  \\\n",
              "0     امام سجاد (ع) در دورانی امامت کردند که همزمان ...     c   \n",
              "1     دستگاه فاسد حکومتی با صرف هزینه های هنگفت، سعی...     n   \n",
              "2     دوران محنت اهل بیت پس از شهادت امام رضا(ع) آغا...     e   \n",
              "3     بعد از به شهادت رسیدن امام هادی(ع) دوران محنت ...     c   \n",
              "4     حضرت جواد(ع) در سال ۱۹۵ هجری در مدینه ولادت یافت.     n   \n",
              "...                                                 ...   ...   \n",
              "1559    در حاشیه ی دریای خزر کشور آذربایجان وجود ندارد.     c   \n",
              "1560  جمهوری آذربایجان به ترکی آذربایجانی بزرگترین ک...     n   \n",
              "1561            اولین روزنامه فارسی در هند انتشار یافت.     e   \n",
              "1562             ایران نخستین روزنامه فارسی را چاپ کرد.     c   \n",
              "1563  اولین روزنامه چاپی که به زبان فارسی در ایران م...     n   \n",
              "\n",
              "      hard(hypothesis)  hard(overlap)  \\\n",
              "0                    0              1   \n",
              "1                    1              0   \n",
              "2                    0              0   \n",
              "3                    1              1   \n",
              "4                    1              0   \n",
              "...                ...            ...   \n",
              "1559                 0              1   \n",
              "1560                 0              1   \n",
              "1561                 1              0   \n",
              "1562                 1              0   \n",
              "1563                 1              1   \n",
              "\n",
              "                                        cleaned_premise  \\\n",
              "0     دوران امامت امام صادق علیه‌السلام، مصادف است ب...   \n",
              "1     دوران امامت امام صادق علیه‌السلام، مصادف است ب...   \n",
              "2     با شهادت امام رضا (ع) مرحله جدیدی از تلاش ائمه...   \n",
              "3     با شهادت امام رضا (ع) مرحله جدیدی از تلاش ائمه...   \n",
              "4     با شهادت امام رضا (ع) مرحله جدیدی از تلاش ائمه...   \n",
              "...                                                 ...   \n",
              "1559  دریای خزر یا دریای مازندران یا (با رواج کم) در...   \n",
              "1560  دریای خزر یا دریای مازندران یا (با رواج کم) در...   \n",
              "1561  اولین چاپ مطالب به زبان فارسی در روزنامه‌های ه...   \n",
              "1562  اولین چاپ مطالب به زبان فارسی در روزنامه‌های ه...   \n",
              "1563  اولین چاپ مطالب به زبان فارسی در روزنامه‌های ه...   \n",
              "\n",
              "                                     cleaned_hypothesis  \n",
              "0     امام سجاد (ع) در دورانی امامت کردند که همزمان ...  \n",
              "1     دستگاه فاسد حکومتی با صرف هزینه‌های هنگفت، سعی...  \n",
              "2     دوران محنت اهل‌بیت پس از شهادت امام رضا (ع) آغ...  \n",
              "3     بعد از به شهادت رسیدن امام هادی (ع) دوران محنت...  \n",
              "4     حضرت جواد (ع) در سال ۱۹۵ هجری در مدینه ولادت ی...  \n",
              "...                                                 ...  \n",
              "1559    در حاشیه‌ی دریای خزر کشور آذربایجان وجود ندارد.  \n",
              "1560  جمهوری آذربایجان به ترکی آذربایجانی بزرگترین ک...  \n",
              "1561            اولین روزنامه فارسی در هند انتشار یافت.  \n",
              "1562             ایران نخستین روزنامه فارسی را چاپ کرد.  \n",
              "1563  اولین روزنامه چاپی که به زبان فارسی در ایران م...  \n",
              "\n",
              "[1564 rows x 8 columns]"
            ]
          },
          "execution_count": 16,
          "metadata": {},
          "output_type": "execute_result"
        }
      ],
      "source": [
        "# data_path = './FarsTail/data/Test-word.csv'\n",
        "# test_df = pd.read_csv(data_path, sep='\\t')\n",
        "\n",
        "# test_df['cleaned_premise'] = test_df['premise'].apply(cleaning)\n",
        "# test_df['cleaned_hypothesis'] = test_df['hypothesis'].apply(cleaning)\n",
        "\n",
        "test_df = pd.read_csv('./cleaned_test.csv')\n",
        "test_df"
      ]
    },
    {
      "cell_type": "code",
      "execution_count": 17,
      "metadata": {
        "colab": {
          "base_uri": "https://localhost:8080/"
        },
        "id": "5J0PJUSK1bcr",
        "outputId": "529f96d6-12b9-42cc-fa7d-46015e051af1"
      },
      "outputs": [
        {
          "name": "stdout",
          "output_type": "stream",
          "text": [
            "7266\n",
            "1537\n",
            "1564\n"
          ]
        }
      ],
      "source": [
        "import os\n",
        "import pickle\n",
        "\n",
        "import torch\n",
        "from torch.utils.data import Dataset, TensorDataset, DataLoader\n",
        "from torch.nn.utils.rnn import pad_sequence\n",
        "from transformers import BertTokenizer\n",
        "\n",
        "\n",
        "class MNLIDataBert(Dataset):\n",
        "\n",
        "  def __init__(self, train_df, val_df, test_df):\n",
        "    self.label_dict = {'e': 0, 'c': 1, 'n': 2}\n",
        "\n",
        "    self.train_df = train_df\n",
        "    self.val_df = val_df\n",
        "    self.test_df = test_df\n",
        "\n",
        "    self.tokenizer = tokenizer\n",
        "    self.train_data = None\n",
        "    self.val_data = None\n",
        "    self.test_data = None\n",
        "    self.init_data()\n",
        "\n",
        "  def init_data(self):\n",
        "    self.train_data = self.load_data(self.train_df)\n",
        "    self.val_data = self.load_data(self.val_df)\n",
        "    self.test_data = self.load_data(self.test_df)\n",
        "\n",
        "  def load_data(self, df):\n",
        "    token_ids = []\n",
        "    mask_ids = []\n",
        "    seg_ids = []\n",
        "    y = []\n",
        "\n",
        "    premise_list = df['cleaned_premise'].to_list()\n",
        "    hypothesis_list = df['cleaned_hypothesis'].to_list()\n",
        "    label_list = df['label'].to_list()\n",
        "\n",
        "    for (premise, hypothesis, label) in zip(premise_list, hypothesis_list, label_list):\n",
        "      premise_id = self.tokenizer.encode(premise, add_special_tokens = False)\n",
        "      hypothesis_id = self.tokenizer.encode(hypothesis, add_special_tokens = False)\n",
        "      pair_token_ids = [self.tokenizer.cls_token_id] + premise_id + [self.tokenizer.sep_token_id] + hypothesis_id + [self.tokenizer.sep_token_id]\n",
        "      premise_len = len(premise_id)\n",
        "      hypothesis_len = len(hypothesis_id)\n",
        "\n",
        "      segment_ids = torch.tensor([0] * (premise_len + 2) + [1] * (hypothesis_len + 1))  # sentence 0 and sentence 1\n",
        "      attention_mask_ids = torch.tensor([1] * (premise_len + hypothesis_len + 3))  # mask padded values\n",
        "\n",
        "      token_ids.append(torch.tensor(pair_token_ids))\n",
        "      seg_ids.append(segment_ids)\n",
        "      mask_ids.append(attention_mask_ids)\n",
        "      y.append(self.label_dict[label])\n",
        "\n",
        "    token_ids = pad_sequence(token_ids, batch_first=True)\n",
        "    mask_ids = pad_sequence(mask_ids, batch_first=True)\n",
        "    seg_ids = pad_sequence(seg_ids, batch_first=True)\n",
        "    y = torch.tensor(y)\n",
        "    dataset = TensorDataset(token_ids, mask_ids, seg_ids, y)\n",
        "    print(len(dataset))\n",
        "    return dataset\n",
        "\n",
        "  def get_data_loaders(self, batch_size=32, shuffle=True):\n",
        "    train_loader = DataLoader(\n",
        "      self.train_data,\n",
        "      shuffle=shuffle,\n",
        "      batch_size=batch_size\n",
        "    )\n",
        "\n",
        "    val_loader = DataLoader(\n",
        "      self.val_data,\n",
        "      shuffle=shuffle,\n",
        "      batch_size=batch_size\n",
        "    )\n",
        "\n",
        "    test_loader = DataLoader(\n",
        "      self.val_data,\n",
        "      shuffle=shuffle,\n",
        "      batch_size=1\n",
        "    )\n",
        "\n",
        "    return train_loader, val_loader, test_loader\n",
        "\n",
        "mnli_dataset = MNLIDataBert(df, val_df, test_df)"
      ]
    },
    {
      "cell_type": "code",
      "execution_count": 1,
      "metadata": {
        "colab": {
          "base_uri": "https://localhost:8080/",
          "height": 208,
          "referenced_widgets": [
            "0a89320ddb1f44cbb4633e91f3d0c3c6",
            "082fc5ffd4334bfbac377496aeb85fcf",
            "f69627cdf0f64fa6828f6c5c696f3163",
            "f33dd60cdcc84285b217063a922c0e2c",
            "e702a5a9db734df8841bc6b4ea49c405",
            "0a27477d28e34eaeb4fd28cdb3130de6",
            "73d905dc5e82453b874b7b0dbb28016e",
            "39aa3177eb33441881c9f1cde150fc91",
            "9788d775c8d14563bf8fe28c0d66f385",
            "76fe3371fcd94a40a3d1618a9ce1d8ea",
            "361f0919b48c44a9a8a1a6fe128ed633"
          ]
        },
        "id": "CUwzhkUDFxYn",
        "outputId": "db6ba1a8-34f6-4ced-8844-46d8f1455836"
      },
      "outputs": [
        {
          "name": "stderr",
          "output_type": "stream",
          "text": [
            "/media/sgai/M2.21/Bahar/b/.conda/lib/python3.11/site-packages/tqdm/auto.py:21: TqdmWarning: IProgress not found. Please update jupyter and ipywidgets. See https://ipywidgets.readthedocs.io/en/stable/user_install.html\n",
            "  from .autonotebook import tqdm as notebook_tqdm\n",
            "Some weights of BertForSequenceClassification were not initialized from the model checkpoint at HooshvareLab/bert-base-parsbert-uncased and are newly initialized: ['classifier.bias', 'classifier.weight']\n",
            "You should probably TRAIN this model on a down-stream task to be able to use it for predictions and inference.\n"
          ]
        }
      ],
      "source": [
        "from transformers import BertForSequenceClassification, AdamW\n",
        "\n",
        "model = BertForSequenceClassification.from_pretrained(\"HooshvareLab/bert-base-parsbert-uncased\", num_labels=3)"
      ]
    },
    {
      "cell_type": "code",
      "execution_count": 21,
      "metadata": {
        "colab": {
          "base_uri": "https://localhost:8080/"
        },
        "id": "0bX07WmCGtMM",
        "outputId": "adeb2dbb-810a-445b-a129-b7acbff3186a"
      },
      "outputs": [
        {
          "name": "stderr",
          "output_type": "stream",
          "text": [
            "/media/sgai/M2.21/Bahar/b/.conda/lib/python3.11/site-packages/transformers/optimization.py:429: FutureWarning: This implementation of AdamW is deprecated and will be removed in a future version. Use the PyTorch implementation torch.optim.AdamW instead, or set `no_deprecation_warning=True` to disable this warning\n",
            "  warnings.warn(\n"
          ]
        }
      ],
      "source": [
        "optimizer = AdamW(model.parameters(), lr=2e-5, correct_bias=False)"
      ]
    },
    {
      "cell_type": "code",
      "execution_count": 8,
      "metadata": {
        "id": "DbZQdX6MG6Lg"
      },
      "outputs": [],
      "source": [
        "def multi_acc(y_pred, y_test):\n",
        "  acc = (torch.log_softmax(y_pred, dim=1).argmax(dim=1) == y_test).sum().float() / float(y_test.size(0))\n",
        "  return acc\n",
        "\n",
        "import time\n",
        "\n",
        "EPOCHS = 5\n",
        "\n",
        "def train(model, train_loader, val_loader, optimizer, device='cpu'):\n",
        "  total_step = len(train_loader)\n",
        "\n",
        "  for epoch in range(EPOCHS):\n",
        "    start = time.time()\n",
        "    model.train()\n",
        "    total_train_loss = 0\n",
        "    total_train_acc  = 0\n",
        "    for batch_idx, (pair_token_ids, mask_ids_, seg_ids_, y) in enumerate(train_loader):\n",
        "      optimizer.zero_grad()\n",
        "      pair_token_ids = pair_token_ids.to(device)\n",
        "      mask_ids = mask_ids_.to(device)\n",
        "      seg_ids = seg_ids_.to(device)\n",
        "      labels = y.to(device)\n",
        "\n",
        "      loss, prediction = model(pair_token_ids,\n",
        "                             token_type_ids=seg_ids,\n",
        "                             attention_mask=mask_ids,\n",
        "                             labels=labels).values()\n",
        "\n",
        "      acc = multi_acc(prediction, labels)\n",
        "\n",
        "      loss.backward()\n",
        "      optimizer.step()\n",
        "\n",
        "      total_train_loss += loss.item()\n",
        "      total_train_acc  += acc.item()\n",
        "\n",
        "    train_acc  = total_train_acc/len(train_loader)\n",
        "    train_loss = total_train_loss/len(train_loader)\n",
        "    model.eval()\n",
        "    total_val_acc  = 0\n",
        "    total_val_loss = 0\n",
        "    with torch.no_grad():\n",
        "      for batch_idx, (pair_token_ids, mask_ids, seg_ids, y) in enumerate(val_loader):\n",
        "        optimizer.zero_grad()\n",
        "        pair_token_ids = pair_token_ids.to(device)\n",
        "        mask_ids = mask_ids.to(device)\n",
        "        seg_ids = seg_ids.to(device)\n",
        "        labels = y.to(device)\n",
        "\n",
        "        loss, prediction = model(pair_token_ids,\n",
        "                             token_type_ids=seg_ids,\n",
        "                             attention_mask=mask_ids,\n",
        "                             labels=labels).values()\n",
        "\n",
        "        acc = multi_acc(prediction, labels)\n",
        "\n",
        "        total_val_loss += loss.item()\n",
        "        total_val_acc  += acc.item()\n",
        "\n",
        "    val_acc  = total_val_acc/len(val_loader)\n",
        "    val_loss = total_val_loss/len(val_loader)\n",
        "    end = time.time()\n",
        "    hours, rem = divmod(end-start, 3600)\n",
        "    minutes, seconds = divmod(rem, 60)\n",
        "\n",
        "    print(f'Epoch {epoch+1}: train_loss: {train_loss:.4f} train_acc: {train_acc:.4f} | val_loss: {val_loss:.4f} val_acc: {val_acc:.4f}')\n",
        "    print(\"{:0>2}:{:0>2}:{:05.2f}\".format(int(hours),int(minutes),seconds))"
      ]
    },
    {
      "cell_type": "code",
      "execution_count": 19,
      "metadata": {},
      "outputs": [],
      "source": [
        "train_dl, val_dl, test_dl = mnli_dataset.get_data_loaders()"
      ]
    },
    {
      "cell_type": "code",
      "execution_count": 23,
      "metadata": {
        "id": "FC5LN6mqHZln"
      },
      "outputs": [
        {
          "name": "stdout",
          "output_type": "stream",
          "text": [
            "Epoch 1: train_loss: 0.6984 train_acc: 0.6860 | val_loss: 0.5647 val_acc: 0.7755\n",
            "00:17:22.39\n",
            "Epoch 2: train_loss: 0.3481 train_acc: 0.8606 | val_loss: 0.5129 val_acc: 0.8182\n",
            "00:17:22.86\n",
            "Epoch 3: train_loss: 0.1776 train_acc: 0.9335 | val_loss: 0.8694 val_acc: 0.7647\n",
            "00:17:22.39\n",
            "Epoch 4: train_loss: 0.0869 train_acc: 0.9678 | val_loss: 0.7090 val_acc: 0.8112\n",
            "00:17:23.38\n",
            "Epoch 5: train_loss: 0.0561 train_acc: 0.9812 | val_loss: 0.9216 val_acc: 0.7966\n",
            "00:17:23.97\n",
            "Epoch 6: train_loss: 0.0399 train_acc: 0.9870 | val_loss: 0.9951 val_acc: 0.7889\n",
            "00:17:22.94\n",
            "Epoch 7: train_loss: 0.0221 train_acc: 0.9927 | val_loss: 0.9174 val_acc: 0.8112\n",
            "00:17:23.49\n",
            "Epoch 8: train_loss: 0.0232 train_acc: 0.9937 | val_loss: 1.1948 val_acc: 0.7876\n",
            "00:17:23.86\n",
            "Epoch 9: train_loss: 0.0204 train_acc: 0.9941 | val_loss: 0.9861 val_acc: 0.8061\n",
            "00:17:22.66\n",
            "Epoch 10: train_loss: 0.0191 train_acc: 0.9938 | val_loss: 0.9685 val_acc: 0.8125\n",
            "00:17:22.38\n"
          ]
        }
      ],
      "source": [
        "train(model, train_dl, val_dl, optimizer)\n",
        "torch.save(model.state_dict(), './model-10.pt')"
      ]
    },
    {
      "cell_type": "code",
      "execution_count": 2,
      "metadata": {},
      "outputs": [
        {
          "data": {
            "text/plain": [
              "<All keys matched successfully>"
            ]
          },
          "execution_count": 2,
          "metadata": {},
          "output_type": "execute_result"
        }
      ],
      "source": [
        "import torch\n",
        "\n",
        "state_dict = torch.load('./model-10.pt')\n",
        "model.load_state_dict(state_dict)"
      ]
    },
    {
      "cell_type": "code",
      "execution_count": 26,
      "metadata": {},
      "outputs": [],
      "source": [
        "import numpy as np\n",
        "\n",
        "model.eval()\n",
        "\n",
        "predictions = []\n",
        "true_labels = []\n",
        "\n",
        "with torch.no_grad():\n",
        "    for batch in test_dl:\n",
        "        token_ids, mask_ids, seg_ids, y = batch\n",
        "        outputs = model(token_ids, token_type_ids=seg_ids, attention_mask=mask_ids)\n",
        "        logits = outputs.logits\n",
        "        probabilities = torch.softmax(logits, dim=1)\n",
        "        \n",
        "        # Get predicted label (argmax of probabilities)\n",
        "        predicted_label = torch.log_softmax(probabilities, dim=1).argmax(dim=1)\n",
        "        predictions.append(predicted_label)\n",
        "        \n",
        "        true_labels.append(y.item())"
      ]
    },
    {
      "cell_type": "code",
      "execution_count": 42,
      "metadata": {},
      "outputs": [],
      "source": [
        "predictions = [pred.tolist()[0] for pred in predictions]"
      ]
    },
    {
      "cell_type": "code",
      "execution_count": 45,
      "metadata": {},
      "outputs": [
        {
          "name": "stdout",
          "output_type": "stream",
          "text": [
            "Accuracy: 0.8087182823682498\n",
            "F1 Score for Class 0: 0.817391304347826\n",
            "F1 Score for Class 1: 0.746383799421408\n",
            "F1 Score for Class 2: 0.8642714570858282\n",
            "Confusion Matrix:\n",
            "[[423  82  10]\n",
            " [ 76 387  36]\n",
            " [ 21  69 433]]\n"
          ]
        }
      ],
      "source": [
        "from sklearn.metrics import accuracy_score, f1_score, confusion_matrix\n",
        "\n",
        "accuracy = accuracy_score(true_labels, predictions)\n",
        "print(\"Accuracy:\", accuracy)\n",
        "\n",
        "f1_scores = f1_score(true_labels, predictions, labels=[0, 1, 2], average=None)\n",
        "for i, f1 in enumerate(f1_scores):\n",
        "    print(f\"F1 Score for Class {i}: {f1}\")\n",
        "\n",
        "conf_matrix = confusion_matrix(true_labels, predictions)\n",
        "print(\"Confusion Matrix:\")\n",
        "print(conf_matrix)"
      ]
    },
    {
      "cell_type": "code",
      "execution_count": 49,
      "metadata": {},
      "outputs": [],
      "source": [
        "# Numbers are extracted from training logs\n",
        "\n",
        "val_acc = [0.7755, 0.8182, 0.7647, 0.8112, 0.7966, 0.7889, 0.8112, 0.7876, 0.8061, 0.8125]\n",
        "val_loss = [0.5647, 0.5129, 0.8694, 0.7090, 0.9216, 0.9951, 0.9174, 1.1948, 0.9861, 0.9685]"
      ]
    },
    {
      "cell_type": "code",
      "execution_count": 50,
      "metadata": {},
      "outputs": [
        {
          "data": {
            "image/png": "[encoded data removed]",
            "text/plain": [
              "<Figure size 640x480 with 1 Axes>"
            ]
          },
          "metadata": {},
          "output_type": "display_data"
        }
      ],
      "source": [
        "plt.plot(val_loss, label='Validation Loss')\n",
        "plt.xlabel('Epoch')\n",
        "plt.ylabel('Loss')\n",
        "plt.title('Validation Loss Over Epochs')\n",
        "plt.legend()\n",
        "plt.show()"
      ]
    },
    {
      "cell_type": "code",
      "execution_count": 51,
      "metadata": {},
      "outputs": [
        {
          "data": {
            "image/png": "[encoded data removed]",
            "text/plain": [
              "<Figure size 640x480 with 1 Axes>"
            ]
          },
          "metadata": {},
          "output_type": "display_data"
        }
      ],
      "source": [
        "plt.plot(val_acc, label='Validation Accuracy')\n",
        "plt.xlabel('Epoch')\n",
        "plt.ylabel('Acc')\n",
        "plt.title('Validation Accuracy Over Epochs')\n",
        "plt.legend()\n",
        "plt.show()"
      ]
    },
    {
      "cell_type": "code",
      "execution_count": 37,
      "metadata": {},
      "outputs": [],
      "source": [
        "import copy\n",
        "\n",
        "model_ff9 = copy.deepcopy(model)\n",
        "\n",
        "for param in model_ff9.bert.encoder.layer[:9].parameters():\n",
        "    param.requires_grad = False"
      ]
    },
    {
      "cell_type": "code",
      "execution_count": 38,
      "metadata": {},
      "outputs": [
        {
          "name": "stdout",
          "output_type": "stream",
          "text": [
            "Epoch 1: train_loss: 0.0102 train_acc: 0.9967 | val_loss: 0.9685 val_acc: 0.8125\n",
            "00:13:15.21\n",
            "Epoch 2: train_loss: 0.0096 train_acc: 0.9977 | val_loss: 0.9685 val_acc: 0.8125\n",
            "00:13:15.04\n",
            "Epoch 3: train_loss: 0.0098 train_acc: 0.9975 | val_loss: 0.9845 val_acc: 0.8125\n",
            "00:13:15.05\n",
            "Epoch 4: train_loss: 0.0131 train_acc: 0.9970 | val_loss: 0.9685 val_acc: 0.8125\n",
            "00:13:15.00\n",
            "Epoch 5: train_loss: 0.0103 train_acc: 0.9978 | val_loss: 0.9685 val_acc: 0.8125\n",
            "00:13:14.92\n"
          ]
        }
      ],
      "source": [
        "train(model_ff9, train_dl, val_dl, optimizer)"
      ]
    },
    {
      "cell_type": "code",
      "execution_count": 40,
      "metadata": {},
      "outputs": [
        {
          "name": "stdout",
          "output_type": "stream",
          "text": [
            "Accuracy: 0.8087182823682498\n",
            "F1 Score for Class 0: 0.817391304347826\n",
            "F1 Score for Class 1: 0.746383799421408\n",
            "F1 Score for Class 2: 0.8642714570858282\n",
            "Confusion Matrix:\n",
            "[[423  82  10]\n",
            " [ 76 387  36]\n",
            " [ 21  69 433]]\n"
          ]
        }
      ],
      "source": [
        "from sklearn.metrics import accuracy_score, f1_score, confusion_matrix\n",
        "\n",
        "model_ff9.eval()\n",
        "\n",
        "predictions = []\n",
        "true_labels = []\n",
        "\n",
        "with torch.no_grad():\n",
        "    for batch in test_dl:\n",
        "        token_ids, mask_ids, seg_ids, y = batch\n",
        "        outputs = model_ff9(token_ids, token_type_ids=seg_ids, attention_mask=mask_ids)\n",
        "        logits = outputs.logits\n",
        "        probabilities = torch.softmax(logits, dim=1)\n",
        "        \n",
        "        # Get predicted label (argmax of probabilities)\n",
        "        predicted_label = torch.log_softmax(probabilities, dim=1).argmax(dim=1)\n",
        "        predictions.append(predicted_label)\n",
        "        \n",
        "        true_labels.append(y.item())\n",
        "\n",
        "predictions = [pred.tolist()[0] for pred in predictions]\n",
        "\n",
        "accuracy = accuracy_score(true_labels, predictions)\n",
        "print(\"Accuracy:\", accuracy)\n",
        "\n",
        "f1_scores = f1_score(true_labels, predictions, labels=[0, 1, 2], average=None)\n",
        "for i, f1 in enumerate(f1_scores):\n",
        "    print(f\"F1 Score for Class {i}: {f1}\")\n",
        "\n",
        "conf_matrix = confusion_matrix(true_labels, predictions)\n",
        "print(\"Confusion Matrix:\")\n",
        "print(conf_matrix)"
      ]
    },
    {
      "cell_type": "code",
      "execution_count": 51,
      "metadata": {},
      "outputs": [],
      "source": [
        "val_acc = [0.8125, 0.8125, 0.8125, 0.8125, 0.8125]\n",
        "val_loss = [0.9685, 0.9685, 0.9845, 0.9685, 0.9685]"
      ]
    },
    {
      "cell_type": "code",
      "execution_count": 52,
      "metadata": {},
      "outputs": [
        {
          "data": {
            "image/png": "[encoded data removed]",
            "text/plain": [
              "<Figure size 640x480 with 1 Axes>"
            ]
          },
          "metadata": {},
          "output_type": "display_data"
        }
      ],
      "source": [
        "plt.plot(val_loss, label='Validation Loss')\n",
        "plt.xlabel('Epoch')\n",
        "plt.ylabel('Loss')\n",
        "plt.title('Validation Loss Over Epochs')\n",
        "plt.legend()\n",
        "plt.show()"
      ]
    },
    {
      "cell_type": "code",
      "execution_count": 53,
      "metadata": {},
      "outputs": [
        {
          "data": {
            "image/png": "[encoded data removed]",
            "text/plain": [
              "<Figure size 640x480 with 1 Axes>"
            ]
          },
          "metadata": {},
          "output_type": "display_data"
        }
      ],
      "source": [
        "plt.plot(val_acc, label='Validation Accuracy')\n",
        "plt.xlabel('Epoch')\n",
        "plt.ylabel('Acc')\n",
        "plt.title('Validation Accuracy Over Epochs')\n",
        "plt.legend()\n",
        "plt.show()"
      ]
    },
    {
      "cell_type": "code",
      "execution_count": 48,
      "metadata": {},
      "outputs": [],
      "source": [
        "import copy\n",
        "\n",
        "model_ec = copy.deepcopy(model)\n",
        "\n",
        "for name, param in model_ec.named_parameters():\n",
        "    if 'embeddings' not in name and 'classifier' not in name:\n",
        "        param.requires_grad = False"
      ]
    },
    {
      "cell_type": "code",
      "execution_count": 49,
      "metadata": {},
      "outputs": [
        {
          "name": "stdout",
          "output_type": "stream",
          "text": [
            "Epoch 1: train_loss: 0.0092 train_acc: 0.9975 | val_loss: 0.9685 val_acc: 0.8125\n",
            "00:12:09.69\n",
            "Epoch 2: train_loss: 0.0100 train_acc: 0.9974 | val_loss: 0.9685 val_acc: 0.8125\n",
            "00:12:09.01\n",
            "Epoch 3: train_loss: 0.0132 train_acc: 0.9970 | val_loss: 0.9728 val_acc: 0.8125\n",
            "00:12:07.41\n",
            "Epoch 4: train_loss: 0.0105 train_acc: 0.9974 | val_loss: 0.9685 val_acc: 0.8125\n",
            "00:12:07.77\n",
            "Epoch 5: train_loss: 0.0106 train_acc: 0.9977 | val_loss: 0.9685 val_acc: 0.8125\n",
            "00:12:07.91\n"
          ]
        }
      ],
      "source": [
        "train(model_ec, train_dl, val_dl, optimizer)"
      ]
    },
    {
      "cell_type": "code",
      "execution_count": 50,
      "metadata": {},
      "outputs": [
        {
          "name": "stdout",
          "output_type": "stream",
          "text": [
            "Accuracy: 0.8087182823682498\n",
            "F1 Score for Class 0: 0.817391304347826\n",
            "F1 Score for Class 1: 0.746383799421408\n",
            "F1 Score for Class 2: 0.8642714570858282\n",
            "Confusion Matrix:\n",
            "[[423  82  10]\n",
            " [ 76 387  36]\n",
            " [ 21  69 433]]\n"
          ]
        }
      ],
      "source": [
        "model_ec.eval()\n",
        "\n",
        "predictions = []\n",
        "true_labels = []\n",
        "\n",
        "with torch.no_grad():\n",
        "    for batch in test_dl:\n",
        "        token_ids, mask_ids, seg_ids, y = batch\n",
        "        outputs = model_ec(token_ids, token_type_ids=seg_ids, attention_mask=mask_ids)\n",
        "        logits = outputs.logits\n",
        "        probabilities = torch.softmax(logits, dim=1)\n",
        "        \n",
        "        # Get predicted label (argmax of probabilities)\n",
        "        predicted_label = torch.log_softmax(probabilities, dim=1).argmax(dim=1)\n",
        "        predictions.append(predicted_label)\n",
        "        \n",
        "        true_labels.append(y.item())\n",
        "\n",
        "predictions = [pred.tolist()[0] for pred in predictions]\n",
        "\n",
        "accuracy = accuracy_score(true_labels, predictions)\n",
        "print(\"Accuracy:\", accuracy)\n",
        "\n",
        "f1_scores = f1_score(true_labels, predictions, labels=[0, 1, 2], average=None)\n",
        "for i, f1 in enumerate(f1_scores):\n",
        "    print(f\"F1 Score for Class {i}: {f1}\")\n",
        "\n",
        "conf_matrix = confusion_matrix(true_labels, predictions)\n",
        "print(\"Confusion Matrix:\")\n",
        "print(conf_matrix)"
      ]
    },
    {
      "cell_type": "code",
      "execution_count": 54,
      "metadata": {},
      "outputs": [],
      "source": [
        "val_acc = [0.8125, 0.8125, 0.8125, 0.8125, 0.8125]\n",
        "val_loss = [0.9685, 0.9685, 0.9728, 0.9685, 0.9685]"
      ]
    },
    {
      "cell_type": "code",
      "execution_count": 55,
      "metadata": {},
      "outputs": [
        {
          "data": {
            "image/png": "[encoded data removed]",
            "text/plain": [
              "<Figure size 640x480 with 1 Axes>"
            ]
          },
          "metadata": {},
          "output_type": "display_data"
        }
      ],
      "source": [
        "plt.plot(val_acc, label='Validation Accuracy')\n",
        "plt.xlabel('Epoch')\n",
        "plt.ylabel('Acc')\n",
        "plt.title('Validation Accuracy Over Epochs')\n",
        "plt.legend()\n",
        "plt.show()"
      ]
    },
    {
      "cell_type": "code",
      "execution_count": 56,
      "metadata": {},
      "outputs": [
        {
          "data": {
            "image/png": "[encoded data removed]",
            "text/plain": [
              "<Figure size 640x480 with 1 Axes>"
            ]
          },
          "metadata": {},
          "output_type": "display_data"
        }
      ],
      "source": [
        "plt.plot(val_loss, label='Validation Loss')\n",
        "plt.xlabel('Epoch')\n",
        "plt.ylabel('Loss')\n",
        "plt.title('Validation Loss Over Epochs')\n",
        "plt.legend()\n",
        "plt.show()"
      ]
    },
    {
      "cell_type": "code",
      "execution_count": 58,
      "metadata": {},
      "outputs": [],
      "source": [
        "from transformers import BertModel\n",
        "from copy import deepcopy\n",
        "\n",
        "config_09 = deepcopy(config)\n",
        "config.num_hidden_layers = 9\n",
        "config.num_labels = 3\n",
        "\n",
        "model_09 = BertForSequenceClassification(config)\n",
        "\n",
        "for i in range(9):\n",
        "    model_09.bert.encoder.layer[i].load_state_dict(model.bert.encoder.layer[i].state_dict())\n",
        "\n"
      ]
    },
    {
      "cell_type": "code",
      "execution_count": 60,
      "metadata": {},
      "outputs": [
        {
          "name": "stdout",
          "output_type": "stream",
          "text": [
            "Epoch 1: train_loss: 1.1064 train_acc: 0.3394 | val_loss: 1.0979 val_acc: 0.3482\n",
            "00:13:19.70\n",
            "Epoch 2: train_loss: 1.1045 train_acc: 0.3344 | val_loss: 1.0987 val_acc: 0.3335\n",
            "00:13:19.23\n",
            "Epoch 3: train_loss: 1.1049 train_acc: 0.3268 | val_loss: 1.0990 val_acc: 0.3335\n",
            "00:13:18.85\n",
            "Epoch 4: train_loss: 1.1036 train_acc: 0.3368 | val_loss: 1.0988 val_acc: 0.3284\n",
            "00:13:16.11\n",
            "Epoch 5: train_loss: 1.1028 train_acc: 0.3374 | val_loss: 1.0989 val_acc: 0.3182\n",
            "00:13:21.21\n"
          ]
        }
      ],
      "source": [
        "optimizer = AdamW(model_09.parameters(), lr=4e-6, correct_bias=True)\n",
        "train(model_09, train_dl, val_dl, optimizer)"
      ]
    },
    {
      "cell_type": "code",
      "execution_count": 61,
      "metadata": {},
      "outputs": [
        {
          "name": "stdout",
          "output_type": "stream",
          "text": [
            "Accuracy: 0.324658425504229\n",
            "F1 Score for Class 0: 0.0\n",
            "F1 Score for Class 1: 0.4901768172888016\n",
            "F1 Score for Class 2: 0.0\n",
            "Confusion Matrix:\n",
            "[[  0 515   0]\n",
            " [  0 499   0]\n",
            " [  0 523   0]]\n"
          ]
        }
      ],
      "source": [
        "from sklearn.metrics import accuracy_score, f1_score, confusion_matrix\n",
        "\n",
        "model_09.eval()\n",
        "\n",
        "predictions = []\n",
        "true_labels = []\n",
        "\n",
        "with torch.no_grad():\n",
        "    for batch in test_dl:\n",
        "        token_ids, mask_ids, seg_ids, y = batch\n",
        "        outputs = model_09(token_ids, token_type_ids=seg_ids, attention_mask=mask_ids)\n",
        "        logits = outputs.logits\n",
        "        probabilities = torch.softmax(logits, dim=1)\n",
        "        \n",
        "        # Get predicted label (argmax of probabilities)\n",
        "        predicted_label = torch.log_softmax(probabilities, dim=1).argmax(dim=1)\n",
        "        predictions.append(predicted_label)\n",
        "        \n",
        "        true_labels.append(y.item())\n",
        "\n",
        "predictions = [pred.tolist()[0] for pred in predictions]\n",
        "\n",
        "accuracy = accuracy_score(true_labels, predictions)\n",
        "print(\"Accuracy:\", accuracy)\n",
        "\n",
        "f1_scores = f1_score(true_labels, predictions, labels=[0, 1, 2], average=None)\n",
        "for i, f1 in enumerate(f1_scores):\n",
        "    print(f\"F1 Score for Class {i}: {f1}\")\n",
        "\n",
        "conf_matrix = confusion_matrix(true_labels, predictions)\n",
        "print(\"Confusion Matrix:\")\n",
        "print(conf_matrix)"
      ]
    },
    {
      "cell_type": "code",
      "execution_count": 62,
      "metadata": {},
      "outputs": [],
      "source": [
        "val_acc = [0.3482, 0.3335, 0.3335, 0.3284, 0.3182]\n",
        "val_loss = [1.0979, 1.0987, 1.0990, 1.0988, 1.0989]\n"
      ]
    },
    {
      "cell_type": "code",
      "execution_count": 63,
      "metadata": {},
      "outputs": [
        {
          "data": {
            "image/png": "[encoded data removed]",
            "text/plain": [
              "<Figure size 640x480 with 1 Axes>"
            ]
          },
          "metadata": {},
          "output_type": "display_data"
        }
      ],
      "source": [
        "plt.plot(val_acc, label='Validation Accuracy')\n",
        "plt.xlabel('Epoch')\n",
        "plt.ylabel('Acc')\n",
        "plt.title('Validation Accuracy Over Epochs')\n",
        "plt.legend()\n",
        "plt.show()"
      ]
    },
    {
      "cell_type": "code",
      "execution_count": 64,
      "metadata": {},
      "outputs": [
        {
          "data": {
            "image/png": "[encoded data removed]",
            "text/plain": [
              "<Figure size 640x480 with 1 Axes>"
            ]
          },
          "metadata": {},
          "output_type": "display_data"
        }
      ],
      "source": [
        "plt.plot(val_loss, label='Validation Loss')\n",
        "plt.xlabel('Epoch')\n",
        "plt.ylabel('Loss')\n",
        "plt.title('Validation Loss Over Epochs')\n",
        "plt.legend()\n",
        "plt.show()"
      ]
    },
    {
      "cell_type": "code",
      "execution_count": 65,
      "metadata": {},
      "outputs": [],
      "source": [
        "import random\n",
        "import copy\n",
        "\n",
        "model_hl = copy.deepcopy(model)\n",
        "\n",
        "model_hl.prune_heads({\n",
        "    0: random.sample(range(12), 6),\n",
        "    1: random.sample(range(12), 6),\n",
        "    2: random.sample(range(12), 6),\n",
        "    3: random.sample(range(12), 6),\n",
        "    4: random.sample(range(12), 6),\n",
        "    5: random.sample(range(12), 6),\n",
        "    6: random.sample(range(12), 6),\n",
        "    7: random.sample(range(12), 6),\n",
        "    8: random.sample(range(12), 6),\n",
        "    9: random.sample(range(12), 6),\n",
        "    10: random.sample(range(12), 6),\n",
        "    11: random.sample(range(12), 6)\n",
        "})"
      ]
    },
    {
      "cell_type": "code",
      "execution_count": 66,
      "metadata": {},
      "outputs": [
        {
          "name": "stderr",
          "output_type": "stream",
          "text": [
            "/media/sgai/M2.21/Bahar/b/.conda/lib/python3.11/site-packages/transformers/optimization.py:429: FutureWarning: This implementation of AdamW is deprecated and will be removed in a future version. Use the PyTorch implementation torch.optim.AdamW instead, or set `no_deprecation_warning=True` to disable this warning\n",
            "  warnings.warn(\n"
          ]
        },
        {
          "name": "stdout",
          "output_type": "stream",
          "text": [
            "Epoch 1: train_loss: 0.9012 train_acc: 0.6128 | val_loss: 1.2798 val_acc: 0.5223\n",
            "00:13:41.20\n",
            "Epoch 2: train_loss: 0.8935 train_acc: 0.6102 | val_loss: 1.2732 val_acc: 0.5223\n",
            "00:13:42.08\n",
            "Epoch 3: train_loss: 0.9045 train_acc: 0.6176 | val_loss: 1.2595 val_acc: 0.5421\n",
            "00:13:41.76\n",
            "Epoch 4: train_loss: 0.8908 train_acc: 0.6154 | val_loss: 1.2591 val_acc: 0.5421\n",
            "00:13:40.84\n",
            "Epoch 5: train_loss: 0.8945 train_acc: 0.6087 | val_loss: 1.2617 val_acc: 0.5421\n",
            "00:13:42.53\n"
          ]
        }
      ],
      "source": [
        "optimizer = AdamW(model_hl.parameters(), lr=2e-5, correct_bias=False)\n",
        "train(model_hl, train_dl, val_dl, optimizer)"
      ]
    },
    {
      "cell_type": "code",
      "execution_count": 67,
      "metadata": {},
      "outputs": [
        {
          "name": "stdout",
          "output_type": "stream",
          "text": [
            "Accuracy: 0.5328562134027326\n",
            "F1 Score for Class 0: 0.5851318944844125\n",
            "F1 Score for Class 1: 0.5640378548895899\n",
            "F1 Score for Class 2: 0.39083969465648855\n",
            "Confusion Matrix:\n",
            "[[244 270   1]\n",
            " [ 49 447   3]\n",
            " [ 26 369 128]]\n"
          ]
        }
      ],
      "source": [
        "from sklearn.metrics import accuracy_score, f1_score, confusion_matrix\n",
        "\n",
        "model_hl.eval()\n",
        "\n",
        "predictions = []\n",
        "true_labels = []\n",
        "\n",
        "with torch.no_grad():\n",
        "    for batch in test_dl:\n",
        "        token_ids, mask_ids, seg_ids, y = batch\n",
        "        outputs = model_hl(token_ids, token_type_ids=seg_ids, attention_mask=mask_ids)\n",
        "        logits = outputs.logits\n",
        "        probabilities = torch.softmax(logits, dim=1)\n",
        "        \n",
        "        # Get predicted label (argmax of probabilities)\n",
        "        predicted_label = torch.log_softmax(probabilities, dim=1).argmax(dim=1)\n",
        "        predictions.append(predicted_label)\n",
        "        \n",
        "        true_labels.append(y.item())\n",
        "\n",
        "predictions = [pred.tolist()[0] for pred in predictions]\n",
        "\n",
        "accuracy = accuracy_score(true_labels, predictions)\n",
        "print(\"Accuracy:\", accuracy)\n",
        "\n",
        "f1_scores = f1_score(true_labels, predictions, labels=[0, 1, 2], average=None)\n",
        "for i, f1 in enumerate(f1_scores):\n",
        "    print(f\"F1 Score for Class {i}: {f1}\")\n",
        "\n",
        "conf_matrix = confusion_matrix(true_labels, predictions)\n",
        "print(\"Confusion Matrix:\")\n",
        "print(conf_matrix)"
      ]
    },
    {
      "cell_type": "code",
      "execution_count": 68,
      "metadata": {},
      "outputs": [],
      "source": [
        "val_acc = [0.5223, 0.5223, 0.5421, 0.5421, 0.5421]\n",
        "val_loss = [1.2798, 1.2732, 1.2595, 1.2591, 1.2617]"
      ]
    },
    {
      "cell_type": "code",
      "execution_count": 69,
      "metadata": {},
      "outputs": [
        {
          "data": {
            "image/png": "[encoded data removed]",
            "text/plain": [
              "<Figure size 640x480 with 1 Axes>"
            ]
          },
          "metadata": {},
          "output_type": "display_data"
        }
      ],
      "source": [
        "plt.plot(val_acc, label='Validation Accuracy')\n",
        "plt.xlabel('Epoch')\n",
        "plt.ylabel('Acc')\n",
        "plt.title('Validation Accuracy Over Epochs')\n",
        "plt.legend()\n",
        "plt.show()"
      ]
    },
    {
      "cell_type": "code",
      "execution_count": 70,
      "metadata": {},
      "outputs": [
        {
          "data": {
            "image/png": "[encoded data removed]",
            "text/plain": [
              "<Figure size 640x480 with 1 Axes>"
            ]
          },
          "metadata": {},
          "output_type": "display_data"
        }
      ],
      "source": [
        "plt.plot(val_loss, label='Validation Loss')\n",
        "plt.xlabel('Epoch')\n",
        "plt.ylabel('Loss')\n",
        "plt.title('Validation Loss Over Epochs')\n",
        "plt.legend()\n",
        "plt.show()"
      ]
    }
  ],
  "metadata": {
    "colab": {
      "provenance": []
    },
    "kernelspec": {
      "display_name": "Python 3",
      "name": "python3"
    },
    "language_info": {
      "codemirror_mode": {
        "name": "ipython",
        "version": 3
      },
      "file_extension": ".py",
      "mimetype": "text/x-python",
      "name": "python",
      "nbconvert_exporter": "python",
      "pygments_lexer": "ipython3",
      "version": "3.11.7"
    },
    "widgets": {
      "application/vnd.jupyter.widget-state+json": {
        "082fc5ffd4334bfbac377496aeb85fcf": {
          "model_module": "@jupyter-widgets/controls",
          "model_module_version": "1.5.0",
          "model_name": "HTMLModel",
          "state": {
            "_dom_classes": [],
            "_model_module": "@jupyter-widgets/controls",
            "_model_module_version": "1.5.0",
            "_model_name": "HTMLModel",
            "_view_count": null,
            "_view_module": "@jupyter-widgets/controls",
            "_view_module_version": "1.5.0",
            "_view_name": "HTMLView",
            "description": "",
            "description_tooltip": null,
            "layout": "IPY_MODEL_0a27477d28e34eaeb4fd28cdb3130de6",
            "placeholder": "​",
            "style": "IPY_MODEL_73d905dc5e82453b874b7b0dbb28016e",
            "value": "pytorch_model.bin: 100%"
          }
        },
        "0a27477d28e34eaeb4fd28cdb3130de6": {
          "model_module": "@jupyter-widgets/base",
          "model_module_version": "1.2.0",
          "model_name": "LayoutModel",
          "state": {
            "_model_module": "@jupyter-widgets/base",
            "_model_module_version": "1.2.0",
            "_model_name": "LayoutModel",
            "_view_count": null,
            "_view_module": "@jupyter-widgets/base",
            "_view_module_version": "1.2.0",
            "_view_name": "LayoutView",
            "align_content": null,
            "align_items": null,
            "align_self": null,
            "border": null,
            "bottom": null,
            "display": null,
            "flex": null,
            "flex_flow": null,
            "grid_area": null,
            "grid_auto_columns": null,
            "grid_auto_flow": null,
            "grid_auto_rows": null,
            "grid_column": null,
            "grid_gap": null,
            "grid_row": null,
            "grid_template_areas": null,
            "grid_template_columns": null,
            "grid_template_rows": null,
            "height": null,
            "justify_content": null,
            "justify_items": null,
            "left": null,
            "margin": null,
            "max_height": null,
            "max_width": null,
            "min_height": null,
            "min_width": null,
            "object_fit": null,
            "object_position": null,
            "order": null,
            "overflow": null,
            "overflow_x": null,
            "overflow_y": null,
            "padding": null,
            "right": null,
            "top": null,
            "visibility": null,
            "width": null
          }
        },
        "0a89320ddb1f44cbb4633e91f3d0c3c6": {
          "model_module": "@jupyter-widgets/controls",
          "model_module_version": "1.5.0",
          "model_name": "HBoxModel",
          "state": {
            "_dom_classes": [],
            "_model_module": "@jupyter-widgets/controls",
            "_model_module_version": "1.5.0",
            "_model_name": "HBoxModel",
            "_view_count": null,
            "_view_module": "@jupyter-widgets/controls",
            "_view_module_version": "1.5.0",
            "_view_name": "HBoxView",
            "box_style": "",
            "children": [
              "IPY_MODEL_082fc5ffd4334bfbac377496aeb85fcf",
              "IPY_MODEL_f69627cdf0f64fa6828f6c5c696f3163",
              "IPY_MODEL_f33dd60cdcc84285b217063a922c0e2c"
            ],
            "layout": "IPY_MODEL_e702a5a9db734df8841bc6b4ea49c405"
          }
        },
        "361f0919b48c44a9a8a1a6fe128ed633": {
          "model_module": "@jupyter-widgets/controls",
          "model_module_version": "1.5.0",
          "model_name": "DescriptionStyleModel",
          "state": {
            "_model_module": "@jupyter-widgets/controls",
            "_model_module_version": "1.5.0",
            "_model_name": "DescriptionStyleModel",
            "_view_count": null,
            "_view_module": "@jupyter-widgets/base",
            "_view_module_version": "1.2.0",
            "_view_name": "StyleView",
            "description_width": ""
          }
        },
        "39aa3177eb33441881c9f1cde150fc91": {
          "model_module": "@jupyter-widgets/base",
          "model_module_version": "1.2.0",
          "model_name": "LayoutModel",
          "state": {
            "_model_module": "@jupyter-widgets/base",
            "_model_module_version": "1.2.0",
            "_model_name": "LayoutModel",
            "_view_count": null,
            "_view_module": "@jupyter-widgets/base",
            "_view_module_version": "1.2.0",
            "_view_name": "LayoutView",
            "align_content": null,
            "align_items": null,
            "align_self": null,
            "border": null,
            "bottom": null,
            "display": null,
            "flex": null,
            "flex_flow": null,
            "grid_area": null,
            "grid_auto_columns": null,
            "grid_auto_flow": null,
            "grid_auto_rows": null,
            "grid_column": null,
            "grid_gap": null,
            "grid_row": null,
            "grid_template_areas": null,
            "grid_template_columns": null,
            "grid_template_rows": null,
            "height": null,
            "justify_content": null,
            "justify_items": null,
            "left": null,
            "margin": null,
            "max_height": null,
            "max_width": null,
            "min_height": null,
            "min_width": null,
            "object_fit": null,
            "object_position": null,
            "order": null,
            "overflow": null,
            "overflow_x": null,
            "overflow_y": null,
            "padding": null,
            "right": null,
            "top": null,
            "visibility": null,
            "width": null
          }
        },
        "73d905dc5e82453b874b7b0dbb28016e": {
          "model_module": "@jupyter-widgets/controls",
          "model_module_version": "1.5.0",
          "model_name": "DescriptionStyleModel",
          "state": {
            "_model_module": "@jupyter-widgets/controls",
            "_model_module_version": "1.5.0",
            "_model_name": "DescriptionStyleModel",
            "_view_count": null,
            "_view_module": "@jupyter-widgets/base",
            "_view_module_version": "1.2.0",
            "_view_name": "StyleView",
            "description_width": ""
          }
        },
        "76fe3371fcd94a40a3d1618a9ce1d8ea": {
          "model_module": "@jupyter-widgets/base",
          "model_module_version": "1.2.0",
          "model_name": "LayoutModel",
          "state": {
            "_model_module": "@jupyter-widgets/base",
            "_model_module_version": "1.2.0",
            "_model_name": "LayoutModel",
            "_view_count": null,
            "_view_module": "@jupyter-widgets/base",
            "_view_module_version": "1.2.0",
            "_view_name": "LayoutView",
            "align_content": null,
            "align_items": null,
            "align_self": null,
            "border": null,
            "bottom": null,
            "display": null,
            "flex": null,
            "flex_flow": null,
            "grid_area": null,
            "grid_auto_columns": null,
            "grid_auto_flow": null,
            "grid_auto_rows": null,
            "grid_column": null,
            "grid_gap": null,
            "grid_row": null,
            "grid_template_areas": null,
            "grid_template_columns": null,
            "grid_template_rows": null,
            "height": null,
            "justify_content": null,
            "justify_items": null,
            "left": null,
            "margin": null,
            "max_height": null,
            "max_width": null,
            "min_height": null,
            "min_width": null,
            "object_fit": null,
            "object_position": null,
            "order": null,
            "overflow": null,
            "overflow_x": null,
            "overflow_y": null,
            "padding": null,
            "right": null,
            "top": null,
            "visibility": null,
            "width": null
          }
        },
        "9788d775c8d14563bf8fe28c0d66f385": {
          "model_module": "@jupyter-widgets/controls",
          "model_module_version": "1.5.0",
          "model_name": "ProgressStyleModel",
          "state": {
            "_model_module": "@jupyter-widgets/controls",
            "_model_module_version": "1.5.0",
            "_model_name": "ProgressStyleModel",
            "_view_count": null,
            "_view_module": "@jupyter-widgets/base",
            "_view_module_version": "1.2.0",
            "_view_name": "StyleView",
            "bar_color": null,
            "description_width": ""
          }
        },
        "e702a5a9db734df8841bc6b4ea49c405": {
          "model_module": "@jupyter-widgets/base",
          "model_module_version": "1.2.0",
          "model_name": "LayoutModel",
          "state": {
            "_model_module": "@jupyter-widgets/base",
            "_model_module_version": "1.2.0",
            "_model_name": "LayoutModel",
            "_view_count": null,
            "_view_module": "@jupyter-widgets/base",
            "_view_module_version": "1.2.0",
            "_view_name": "LayoutView",
            "align_content": null,
            "align_items": null,
            "align_self": null,
            "border": null,
            "bottom": null,
            "display": null,
            "flex": null,
            "flex_flow": null,
            "grid_area": null,
            "grid_auto_columns": null,
            "grid_auto_flow": null,
            "grid_auto_rows": null,
            "grid_column": null,
            "grid_gap": null,
            "grid_row": null,
            "grid_template_areas": null,
            "grid_template_columns": null,
            "grid_template_rows": null,
            "height": null,
            "justify_content": null,
            "justify_items": null,
            "left": null,
            "margin": null,
            "max_height": null,
            "max_width": null,
            "min_height": null,
            "min_width": null,
            "object_fit": null,
            "object_position": null,
            "order": null,
            "overflow": null,
            "overflow_x": null,
            "overflow_y": null,
            "padding": null,
            "right": null,
            "top": null,
            "visibility": null,
            "width": null
          }
        },
        "f33dd60cdcc84285b217063a922c0e2c": {
          "model_module": "@jupyter-widgets/controls",
          "model_module_version": "1.5.0",
          "model_name": "HTMLModel",
          "state": {
            "_dom_classes": [],
            "_model_module": "@jupyter-widgets/controls",
            "_model_module_version": "1.5.0",
            "_model_name": "HTMLModel",
            "_view_count": null,
            "_view_module": "@jupyter-widgets/controls",
            "_view_module_version": "1.5.0",
            "_view_name": "HTMLView",
            "description": "",
            "description_tooltip": null,
            "layout": "IPY_MODEL_76fe3371fcd94a40a3d1618a9ce1d8ea",
            "placeholder": "​",
            "style": "IPY_MODEL_361f0919b48c44a9a8a1a6fe128ed633",
            "value": " 654M/654M [00:16&lt;00:00, 48.3MB/s]"
          }
        },
        "f69627cdf0f64fa6828f6c5c696f3163": {
          "model_module": "@jupyter-widgets/controls",
          "model_module_version": "1.5.0",
          "model_name": "FloatProgressModel",
          "state": {
            "_dom_classes": [],
            "_model_module": "@jupyter-widgets/controls",
            "_model_module_version": "1.5.0",
            "_model_name": "FloatProgressModel",
            "_view_count": null,
            "_view_module": "@jupyter-widgets/controls",
            "_view_module_version": "1.5.0",
            "_view_name": "ProgressView",
            "bar_style": "success",
            "description": "",
            "description_tooltip": null,
            "layout": "IPY_MODEL_39aa3177eb33441881c9f1cde150fc91",
            "max": 654186735,
            "min": 0,
            "orientation": "horizontal",
            "style": "IPY_MODEL_9788d775c8d14563bf8fe28c0d66f385",
            "value": 654186735
          }
        }
      }
    }
  },
  "nbformat": 4,
  "nbformat_minor": 0
}
